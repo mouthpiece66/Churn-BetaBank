{
 "cells": [
  {
   "cell_type": "markdown",
   "metadata": {},
   "source": [
    "# Projecto Sprint 9"
   ]
  },
  {
   "cell_type": "code",
   "execution_count": 1,
   "metadata": {
    "trusted": true
   },
   "outputs": [],
   "source": [
    "#Importamos las librerias necesarias \n",
    "import pandas as pd\n",
    "from sklearn.model_selection import train_test_split\n",
    "from sklearn.preprocessing import StandardScaler\n",
    "from sklearn.linear_model import LogisticRegression\n",
    "from sklearn.metrics import classification_report, f1_score, roc_auc_score\n",
    "from sklearn.utils import shuffle\n",
    "from collections import Counter\n",
    "import matplotlib.pyplot as plt\n",
    "import numpy as np\n",
    "from sklearn.metrics import roc_curve\n",
    "from sklearn.tree import DecisionTreeClassifier\n"
   ]
  },
  {
   "cell_type": "code",
   "execution_count": 2,
   "metadata": {
    "trusted": true
   },
   "outputs": [],
   "source": [
    "#Cargamos los datos\n",
    "b_bank = pd.read_csv('/datasets/Churn.csv')"
   ]
  },
  {
   "cell_type": "code",
   "execution_count": 3,
   "metadata": {
    "trusted": true
   },
   "outputs": [
    {
     "name": "stdout",
     "output_type": "stream",
     "text": [
      "<class 'pandas.core.frame.DataFrame'>\n",
      "RangeIndex: 10000 entries, 0 to 9999\n",
      "Data columns (total 14 columns):\n",
      " #   Column           Non-Null Count  Dtype  \n",
      "---  ------           --------------  -----  \n",
      " 0   RowNumber        10000 non-null  int64  \n",
      " 1   CustomerId       10000 non-null  int64  \n",
      " 2   Surname          10000 non-null  object \n",
      " 3   CreditScore      10000 non-null  int64  \n",
      " 4   Geography        10000 non-null  object \n",
      " 5   Gender           10000 non-null  object \n",
      " 6   Age              10000 non-null  int64  \n",
      " 7   Tenure           9091 non-null   float64\n",
      " 8   Balance          10000 non-null  float64\n",
      " 9   NumOfProducts    10000 non-null  int64  \n",
      " 10  HasCrCard        10000 non-null  int64  \n",
      " 11  IsActiveMember   10000 non-null  int64  \n",
      " 12  EstimatedSalary  10000 non-null  float64\n",
      " 13  Exited           10000 non-null  int64  \n",
      "dtypes: float64(3), int64(8), object(3)\n",
      "memory usage: 1.1+ MB\n"
     ]
    },
    {
     "data": {
      "text/html": [
       "<div>\n",
       "<style scoped>\n",
       "    .dataframe tbody tr th:only-of-type {\n",
       "        vertical-align: middle;\n",
       "    }\n",
       "\n",
       "    .dataframe tbody tr th {\n",
       "        vertical-align: top;\n",
       "    }\n",
       "\n",
       "    .dataframe thead th {\n",
       "        text-align: right;\n",
       "    }\n",
       "</style>\n",
       "<table border=\"1\" class=\"dataframe\">\n",
       "  <thead>\n",
       "    <tr style=\"text-align: right;\">\n",
       "      <th></th>\n",
       "      <th>RowNumber</th>\n",
       "      <th>CustomerId</th>\n",
       "      <th>CreditScore</th>\n",
       "      <th>Age</th>\n",
       "      <th>Tenure</th>\n",
       "      <th>Balance</th>\n",
       "      <th>NumOfProducts</th>\n",
       "      <th>HasCrCard</th>\n",
       "      <th>IsActiveMember</th>\n",
       "      <th>EstimatedSalary</th>\n",
       "      <th>Exited</th>\n",
       "    </tr>\n",
       "  </thead>\n",
       "  <tbody>\n",
       "    <tr>\n",
       "      <th>count</th>\n",
       "      <td>10000.00000</td>\n",
       "      <td>1.000000e+04</td>\n",
       "      <td>10000.000000</td>\n",
       "      <td>10000.000000</td>\n",
       "      <td>9091.000000</td>\n",
       "      <td>10000.000000</td>\n",
       "      <td>10000.000000</td>\n",
       "      <td>10000.00000</td>\n",
       "      <td>10000.000000</td>\n",
       "      <td>10000.000000</td>\n",
       "      <td>10000.000000</td>\n",
       "    </tr>\n",
       "    <tr>\n",
       "      <th>mean</th>\n",
       "      <td>5000.50000</td>\n",
       "      <td>1.569094e+07</td>\n",
       "      <td>650.528800</td>\n",
       "      <td>38.921800</td>\n",
       "      <td>4.997690</td>\n",
       "      <td>76485.889288</td>\n",
       "      <td>1.530200</td>\n",
       "      <td>0.70550</td>\n",
       "      <td>0.515100</td>\n",
       "      <td>100090.239881</td>\n",
       "      <td>0.203700</td>\n",
       "    </tr>\n",
       "    <tr>\n",
       "      <th>std</th>\n",
       "      <td>2886.89568</td>\n",
       "      <td>7.193619e+04</td>\n",
       "      <td>96.653299</td>\n",
       "      <td>10.487806</td>\n",
       "      <td>2.894723</td>\n",
       "      <td>62397.405202</td>\n",
       "      <td>0.581654</td>\n",
       "      <td>0.45584</td>\n",
       "      <td>0.499797</td>\n",
       "      <td>57510.492818</td>\n",
       "      <td>0.402769</td>\n",
       "    </tr>\n",
       "    <tr>\n",
       "      <th>min</th>\n",
       "      <td>1.00000</td>\n",
       "      <td>1.556570e+07</td>\n",
       "      <td>350.000000</td>\n",
       "      <td>18.000000</td>\n",
       "      <td>0.000000</td>\n",
       "      <td>0.000000</td>\n",
       "      <td>1.000000</td>\n",
       "      <td>0.00000</td>\n",
       "      <td>0.000000</td>\n",
       "      <td>11.580000</td>\n",
       "      <td>0.000000</td>\n",
       "    </tr>\n",
       "    <tr>\n",
       "      <th>25%</th>\n",
       "      <td>2500.75000</td>\n",
       "      <td>1.562853e+07</td>\n",
       "      <td>584.000000</td>\n",
       "      <td>32.000000</td>\n",
       "      <td>2.000000</td>\n",
       "      <td>0.000000</td>\n",
       "      <td>1.000000</td>\n",
       "      <td>0.00000</td>\n",
       "      <td>0.000000</td>\n",
       "      <td>51002.110000</td>\n",
       "      <td>0.000000</td>\n",
       "    </tr>\n",
       "    <tr>\n",
       "      <th>50%</th>\n",
       "      <td>5000.50000</td>\n",
       "      <td>1.569074e+07</td>\n",
       "      <td>652.000000</td>\n",
       "      <td>37.000000</td>\n",
       "      <td>5.000000</td>\n",
       "      <td>97198.540000</td>\n",
       "      <td>1.000000</td>\n",
       "      <td>1.00000</td>\n",
       "      <td>1.000000</td>\n",
       "      <td>100193.915000</td>\n",
       "      <td>0.000000</td>\n",
       "    </tr>\n",
       "    <tr>\n",
       "      <th>75%</th>\n",
       "      <td>7500.25000</td>\n",
       "      <td>1.575323e+07</td>\n",
       "      <td>718.000000</td>\n",
       "      <td>44.000000</td>\n",
       "      <td>7.000000</td>\n",
       "      <td>127644.240000</td>\n",
       "      <td>2.000000</td>\n",
       "      <td>1.00000</td>\n",
       "      <td>1.000000</td>\n",
       "      <td>149388.247500</td>\n",
       "      <td>0.000000</td>\n",
       "    </tr>\n",
       "    <tr>\n",
       "      <th>max</th>\n",
       "      <td>10000.00000</td>\n",
       "      <td>1.581569e+07</td>\n",
       "      <td>850.000000</td>\n",
       "      <td>92.000000</td>\n",
       "      <td>10.000000</td>\n",
       "      <td>250898.090000</td>\n",
       "      <td>4.000000</td>\n",
       "      <td>1.00000</td>\n",
       "      <td>1.000000</td>\n",
       "      <td>199992.480000</td>\n",
       "      <td>1.000000</td>\n",
       "    </tr>\n",
       "  </tbody>\n",
       "</table>\n",
       "</div>"
      ],
      "text/plain": [
       "         RowNumber    CustomerId   CreditScore           Age       Tenure  \\\n",
       "count  10000.00000  1.000000e+04  10000.000000  10000.000000  9091.000000   \n",
       "mean    5000.50000  1.569094e+07    650.528800     38.921800     4.997690   \n",
       "std     2886.89568  7.193619e+04     96.653299     10.487806     2.894723   \n",
       "min        1.00000  1.556570e+07    350.000000     18.000000     0.000000   \n",
       "25%     2500.75000  1.562853e+07    584.000000     32.000000     2.000000   \n",
       "50%     5000.50000  1.569074e+07    652.000000     37.000000     5.000000   \n",
       "75%     7500.25000  1.575323e+07    718.000000     44.000000     7.000000   \n",
       "max    10000.00000  1.581569e+07    850.000000     92.000000    10.000000   \n",
       "\n",
       "             Balance  NumOfProducts    HasCrCard  IsActiveMember  \\\n",
       "count   10000.000000   10000.000000  10000.00000    10000.000000   \n",
       "mean    76485.889288       1.530200      0.70550        0.515100   \n",
       "std     62397.405202       0.581654      0.45584        0.499797   \n",
       "min         0.000000       1.000000      0.00000        0.000000   \n",
       "25%         0.000000       1.000000      0.00000        0.000000   \n",
       "50%     97198.540000       1.000000      1.00000        1.000000   \n",
       "75%    127644.240000       2.000000      1.00000        1.000000   \n",
       "max    250898.090000       4.000000      1.00000        1.000000   \n",
       "\n",
       "       EstimatedSalary        Exited  \n",
       "count     10000.000000  10000.000000  \n",
       "mean     100090.239881      0.203700  \n",
       "std       57510.492818      0.402769  \n",
       "min          11.580000      0.000000  \n",
       "25%       51002.110000      0.000000  \n",
       "50%      100193.915000      0.000000  \n",
       "75%      149388.247500      0.000000  \n",
       "max      199992.480000      1.000000  "
      ]
     },
     "execution_count": 3,
     "metadata": {},
     "output_type": "execute_result"
    }
   ],
   "source": [
    "b_bank.info()\n",
    "b_bank.describe()"
   ]
  },
  {
   "cell_type": "code",
   "execution_count": 4,
   "metadata": {
    "trusted": true
   },
   "outputs": [
    {
     "data": {
      "text/html": [
       "<div>\n",
       "<style scoped>\n",
       "    .dataframe tbody tr th:only-of-type {\n",
       "        vertical-align: middle;\n",
       "    }\n",
       "\n",
       "    .dataframe tbody tr th {\n",
       "        vertical-align: top;\n",
       "    }\n",
       "\n",
       "    .dataframe thead th {\n",
       "        text-align: right;\n",
       "    }\n",
       "</style>\n",
       "<table border=\"1\" class=\"dataframe\">\n",
       "  <thead>\n",
       "    <tr style=\"text-align: right;\">\n",
       "      <th></th>\n",
       "      <th>RowNumber</th>\n",
       "      <th>CustomerId</th>\n",
       "      <th>Surname</th>\n",
       "      <th>CreditScore</th>\n",
       "      <th>Geography</th>\n",
       "      <th>Gender</th>\n",
       "      <th>Age</th>\n",
       "      <th>Tenure</th>\n",
       "      <th>Balance</th>\n",
       "      <th>NumOfProducts</th>\n",
       "      <th>HasCrCard</th>\n",
       "      <th>IsActiveMember</th>\n",
       "      <th>EstimatedSalary</th>\n",
       "      <th>Exited</th>\n",
       "    </tr>\n",
       "  </thead>\n",
       "  <tbody>\n",
       "    <tr>\n",
       "      <th>0</th>\n",
       "      <td>1</td>\n",
       "      <td>15634602</td>\n",
       "      <td>Hargrave</td>\n",
       "      <td>619</td>\n",
       "      <td>France</td>\n",
       "      <td>Female</td>\n",
       "      <td>42</td>\n",
       "      <td>2.0</td>\n",
       "      <td>0.00</td>\n",
       "      <td>1</td>\n",
       "      <td>1</td>\n",
       "      <td>1</td>\n",
       "      <td>101348.88</td>\n",
       "      <td>1</td>\n",
       "    </tr>\n",
       "    <tr>\n",
       "      <th>1</th>\n",
       "      <td>2</td>\n",
       "      <td>15647311</td>\n",
       "      <td>Hill</td>\n",
       "      <td>608</td>\n",
       "      <td>Spain</td>\n",
       "      <td>Female</td>\n",
       "      <td>41</td>\n",
       "      <td>1.0</td>\n",
       "      <td>83807.86</td>\n",
       "      <td>1</td>\n",
       "      <td>0</td>\n",
       "      <td>1</td>\n",
       "      <td>112542.58</td>\n",
       "      <td>0</td>\n",
       "    </tr>\n",
       "    <tr>\n",
       "      <th>2</th>\n",
       "      <td>3</td>\n",
       "      <td>15619304</td>\n",
       "      <td>Onio</td>\n",
       "      <td>502</td>\n",
       "      <td>France</td>\n",
       "      <td>Female</td>\n",
       "      <td>42</td>\n",
       "      <td>8.0</td>\n",
       "      <td>159660.80</td>\n",
       "      <td>3</td>\n",
       "      <td>1</td>\n",
       "      <td>0</td>\n",
       "      <td>113931.57</td>\n",
       "      <td>1</td>\n",
       "    </tr>\n",
       "    <tr>\n",
       "      <th>3</th>\n",
       "      <td>4</td>\n",
       "      <td>15701354</td>\n",
       "      <td>Boni</td>\n",
       "      <td>699</td>\n",
       "      <td>France</td>\n",
       "      <td>Female</td>\n",
       "      <td>39</td>\n",
       "      <td>1.0</td>\n",
       "      <td>0.00</td>\n",
       "      <td>2</td>\n",
       "      <td>0</td>\n",
       "      <td>0</td>\n",
       "      <td>93826.63</td>\n",
       "      <td>0</td>\n",
       "    </tr>\n",
       "    <tr>\n",
       "      <th>4</th>\n",
       "      <td>5</td>\n",
       "      <td>15737888</td>\n",
       "      <td>Mitchell</td>\n",
       "      <td>850</td>\n",
       "      <td>Spain</td>\n",
       "      <td>Female</td>\n",
       "      <td>43</td>\n",
       "      <td>2.0</td>\n",
       "      <td>125510.82</td>\n",
       "      <td>1</td>\n",
       "      <td>1</td>\n",
       "      <td>1</td>\n",
       "      <td>79084.10</td>\n",
       "      <td>0</td>\n",
       "    </tr>\n",
       "    <tr>\n",
       "      <th>...</th>\n",
       "      <td>...</td>\n",
       "      <td>...</td>\n",
       "      <td>...</td>\n",
       "      <td>...</td>\n",
       "      <td>...</td>\n",
       "      <td>...</td>\n",
       "      <td>...</td>\n",
       "      <td>...</td>\n",
       "      <td>...</td>\n",
       "      <td>...</td>\n",
       "      <td>...</td>\n",
       "      <td>...</td>\n",
       "      <td>...</td>\n",
       "      <td>...</td>\n",
       "    </tr>\n",
       "    <tr>\n",
       "      <th>9995</th>\n",
       "      <td>9996</td>\n",
       "      <td>15606229</td>\n",
       "      <td>Obijiaku</td>\n",
       "      <td>771</td>\n",
       "      <td>France</td>\n",
       "      <td>Male</td>\n",
       "      <td>39</td>\n",
       "      <td>5.0</td>\n",
       "      <td>0.00</td>\n",
       "      <td>2</td>\n",
       "      <td>1</td>\n",
       "      <td>0</td>\n",
       "      <td>96270.64</td>\n",
       "      <td>0</td>\n",
       "    </tr>\n",
       "    <tr>\n",
       "      <th>9996</th>\n",
       "      <td>9997</td>\n",
       "      <td>15569892</td>\n",
       "      <td>Johnstone</td>\n",
       "      <td>516</td>\n",
       "      <td>France</td>\n",
       "      <td>Male</td>\n",
       "      <td>35</td>\n",
       "      <td>10.0</td>\n",
       "      <td>57369.61</td>\n",
       "      <td>1</td>\n",
       "      <td>1</td>\n",
       "      <td>1</td>\n",
       "      <td>101699.77</td>\n",
       "      <td>0</td>\n",
       "    </tr>\n",
       "    <tr>\n",
       "      <th>9997</th>\n",
       "      <td>9998</td>\n",
       "      <td>15584532</td>\n",
       "      <td>Liu</td>\n",
       "      <td>709</td>\n",
       "      <td>France</td>\n",
       "      <td>Female</td>\n",
       "      <td>36</td>\n",
       "      <td>7.0</td>\n",
       "      <td>0.00</td>\n",
       "      <td>1</td>\n",
       "      <td>0</td>\n",
       "      <td>1</td>\n",
       "      <td>42085.58</td>\n",
       "      <td>1</td>\n",
       "    </tr>\n",
       "    <tr>\n",
       "      <th>9998</th>\n",
       "      <td>9999</td>\n",
       "      <td>15682355</td>\n",
       "      <td>Sabbatini</td>\n",
       "      <td>772</td>\n",
       "      <td>Germany</td>\n",
       "      <td>Male</td>\n",
       "      <td>42</td>\n",
       "      <td>3.0</td>\n",
       "      <td>75075.31</td>\n",
       "      <td>2</td>\n",
       "      <td>1</td>\n",
       "      <td>0</td>\n",
       "      <td>92888.52</td>\n",
       "      <td>1</td>\n",
       "    </tr>\n",
       "    <tr>\n",
       "      <th>9999</th>\n",
       "      <td>10000</td>\n",
       "      <td>15628319</td>\n",
       "      <td>Walker</td>\n",
       "      <td>792</td>\n",
       "      <td>France</td>\n",
       "      <td>Female</td>\n",
       "      <td>28</td>\n",
       "      <td>NaN</td>\n",
       "      <td>130142.79</td>\n",
       "      <td>1</td>\n",
       "      <td>1</td>\n",
       "      <td>0</td>\n",
       "      <td>38190.78</td>\n",
       "      <td>0</td>\n",
       "    </tr>\n",
       "  </tbody>\n",
       "</table>\n",
       "<p>10000 rows × 14 columns</p>\n",
       "</div>"
      ],
      "text/plain": [
       "      RowNumber  CustomerId    Surname  CreditScore Geography  Gender  Age  \\\n",
       "0             1    15634602   Hargrave          619    France  Female   42   \n",
       "1             2    15647311       Hill          608     Spain  Female   41   \n",
       "2             3    15619304       Onio          502    France  Female   42   \n",
       "3             4    15701354       Boni          699    France  Female   39   \n",
       "4             5    15737888   Mitchell          850     Spain  Female   43   \n",
       "...         ...         ...        ...          ...       ...     ...  ...   \n",
       "9995       9996    15606229   Obijiaku          771    France    Male   39   \n",
       "9996       9997    15569892  Johnstone          516    France    Male   35   \n",
       "9997       9998    15584532        Liu          709    France  Female   36   \n",
       "9998       9999    15682355  Sabbatini          772   Germany    Male   42   \n",
       "9999      10000    15628319     Walker          792    France  Female   28   \n",
       "\n",
       "      Tenure    Balance  NumOfProducts  HasCrCard  IsActiveMember  \\\n",
       "0        2.0       0.00              1          1               1   \n",
       "1        1.0   83807.86              1          0               1   \n",
       "2        8.0  159660.80              3          1               0   \n",
       "3        1.0       0.00              2          0               0   \n",
       "4        2.0  125510.82              1          1               1   \n",
       "...      ...        ...            ...        ...             ...   \n",
       "9995     5.0       0.00              2          1               0   \n",
       "9996    10.0   57369.61              1          1               1   \n",
       "9997     7.0       0.00              1          0               1   \n",
       "9998     3.0   75075.31              2          1               0   \n",
       "9999     NaN  130142.79              1          1               0   \n",
       "\n",
       "      EstimatedSalary  Exited  \n",
       "0           101348.88       1  \n",
       "1           112542.58       0  \n",
       "2           113931.57       1  \n",
       "3            93826.63       0  \n",
       "4            79084.10       0  \n",
       "...               ...     ...  \n",
       "9995         96270.64       0  \n",
       "9996        101699.77       0  \n",
       "9997         42085.58       1  \n",
       "9998         92888.52       1  \n",
       "9999         38190.78       0  \n",
       "\n",
       "[10000 rows x 14 columns]"
      ]
     },
     "execution_count": 4,
     "metadata": {},
     "output_type": "execute_result"
    }
   ],
   "source": [
    "b_bank"
   ]
  },
  {
   "cell_type": "markdown",
   "metadata": {},
   "source": [
    "-Presencia de valores ausentes en la columna 'Tenure'"
   ]
  },
  {
   "cell_type": "markdown",
   "metadata": {},
   "source": [
    "# Preparación de datos"
   ]
  },
  {
   "cell_type": "code",
   "execution_count": 5,
   "metadata": {
    "trusted": true
   },
   "outputs": [],
   "source": [
    "b_bank.columns = b_bank.columns.str.lower()\n",
    "#Cambiamos a minusculas los titulos de las columnas"
   ]
  },
  {
   "cell_type": "code",
   "execution_count": 6,
   "metadata": {
    "trusted": true
   },
   "outputs": [
    {
     "data": {
      "text/plain": [
       "rownumber            0\n",
       "customerid           0\n",
       "surname              0\n",
       "creditscore          0\n",
       "geography            0\n",
       "gender               0\n",
       "age                  0\n",
       "tenure             909\n",
       "balance              0\n",
       "numofproducts        0\n",
       "hascrcard            0\n",
       "isactivemember       0\n",
       "estimatedsalary      0\n",
       "exited               0\n",
       "dtype: int64"
      ]
     },
     "execution_count": 6,
     "metadata": {},
     "output_type": "execute_result"
    }
   ],
   "source": [
    "b_bank.isna().sum()\n",
    "#Verficamos la presencia de valorres ausentes"
   ]
  },
  {
   "cell_type": "code",
   "execution_count": 7,
   "metadata": {
    "trusted": true
   },
   "outputs": [
    {
     "data": {
      "text/plain": [
       "0       False\n",
       "1       False\n",
       "2       False\n",
       "3       False\n",
       "4       False\n",
       "        ...  \n",
       "9995    False\n",
       "9996    False\n",
       "9997    False\n",
       "9998    False\n",
       "9999    False\n",
       "Length: 10000, dtype: bool"
      ]
     },
     "execution_count": 7,
     "metadata": {},
     "output_type": "execute_result"
    }
   ],
   "source": [
    "b_bank.duplicated()\n",
    "#Verificamos la presencia de duplicados"
   ]
  },
  {
   "cell_type": "code",
   "execution_count": 8,
   "metadata": {
    "scrolled": true,
    "trusted": true
   },
   "outputs": [
    {
     "data": {
      "text/html": [
       "<div>\n",
       "<style scoped>\n",
       "    .dataframe tbody tr th:only-of-type {\n",
       "        vertical-align: middle;\n",
       "    }\n",
       "\n",
       "    .dataframe tbody tr th {\n",
       "        vertical-align: top;\n",
       "    }\n",
       "\n",
       "    .dataframe thead th {\n",
       "        text-align: right;\n",
       "    }\n",
       "</style>\n",
       "<table border=\"1\" class=\"dataframe\">\n",
       "  <thead>\n",
       "    <tr style=\"text-align: right;\">\n",
       "      <th></th>\n",
       "      <th>rownumber</th>\n",
       "      <th>customerid</th>\n",
       "      <th>surname</th>\n",
       "      <th>creditscore</th>\n",
       "      <th>geography</th>\n",
       "      <th>gender</th>\n",
       "      <th>age</th>\n",
       "      <th>tenure</th>\n",
       "      <th>balance</th>\n",
       "      <th>numofproducts</th>\n",
       "      <th>hascrcard</th>\n",
       "      <th>isactivemember</th>\n",
       "      <th>estimatedsalary</th>\n",
       "      <th>exited</th>\n",
       "    </tr>\n",
       "  </thead>\n",
       "  <tbody>\n",
       "    <tr>\n",
       "      <th>5815</th>\n",
       "      <td>5816</td>\n",
       "      <td>15788022</td>\n",
       "      <td>Sternberg</td>\n",
       "      <td>802</td>\n",
       "      <td>Germany</td>\n",
       "      <td>Female</td>\n",
       "      <td>41</td>\n",
       "      <td>4.0</td>\n",
       "      <td>90757.64</td>\n",
       "      <td>2</td>\n",
       "      <td>0</td>\n",
       "      <td>1</td>\n",
       "      <td>169183.66</td>\n",
       "      <td>0</td>\n",
       "    </tr>\n",
       "    <tr>\n",
       "      <th>8350</th>\n",
       "      <td>8351</td>\n",
       "      <td>15709531</td>\n",
       "      <td>Harding</td>\n",
       "      <td>556</td>\n",
       "      <td>France</td>\n",
       "      <td>Male</td>\n",
       "      <td>38</td>\n",
       "      <td>2.0</td>\n",
       "      <td>114756.14</td>\n",
       "      <td>1</td>\n",
       "      <td>1</td>\n",
       "      <td>0</td>\n",
       "      <td>193214.05</td>\n",
       "      <td>0</td>\n",
       "    </tr>\n",
       "    <tr>\n",
       "      <th>9731</th>\n",
       "      <td>9732</td>\n",
       "      <td>15627859</td>\n",
       "      <td>Nebeolisa</td>\n",
       "      <td>607</td>\n",
       "      <td>Germany</td>\n",
       "      <td>Male</td>\n",
       "      <td>29</td>\n",
       "      <td>7.0</td>\n",
       "      <td>102609.00</td>\n",
       "      <td>1</td>\n",
       "      <td>1</td>\n",
       "      <td>0</td>\n",
       "      <td>163257.44</td>\n",
       "      <td>0</td>\n",
       "    </tr>\n",
       "    <tr>\n",
       "      <th>3541</th>\n",
       "      <td>3542</td>\n",
       "      <td>15637169</td>\n",
       "      <td>Maclean</td>\n",
       "      <td>838</td>\n",
       "      <td>Spain</td>\n",
       "      <td>Female</td>\n",
       "      <td>67</td>\n",
       "      <td>4.0</td>\n",
       "      <td>103267.80</td>\n",
       "      <td>1</td>\n",
       "      <td>1</td>\n",
       "      <td>1</td>\n",
       "      <td>78310.04</td>\n",
       "      <td>0</td>\n",
       "    </tr>\n",
       "    <tr>\n",
       "      <th>7412</th>\n",
       "      <td>7413</td>\n",
       "      <td>15631693</td>\n",
       "      <td>Hill</td>\n",
       "      <td>697</td>\n",
       "      <td>France</td>\n",
       "      <td>Male</td>\n",
       "      <td>36</td>\n",
       "      <td>7.0</td>\n",
       "      <td>0.00</td>\n",
       "      <td>2</td>\n",
       "      <td>1</td>\n",
       "      <td>1</td>\n",
       "      <td>74760.32</td>\n",
       "      <td>0</td>\n",
       "    </tr>\n",
       "  </tbody>\n",
       "</table>\n",
       "</div>"
      ],
      "text/plain": [
       "      rownumber  customerid    surname  creditscore geography  gender  age  \\\n",
       "5815       5816    15788022  Sternberg          802   Germany  Female   41   \n",
       "8350       8351    15709531    Harding          556    France    Male   38   \n",
       "9731       9732    15627859  Nebeolisa          607   Germany    Male   29   \n",
       "3541       3542    15637169    Maclean          838     Spain  Female   67   \n",
       "7412       7413    15631693       Hill          697    France    Male   36   \n",
       "\n",
       "      tenure    balance  numofproducts  hascrcard  isactivemember  \\\n",
       "5815     4.0   90757.64              2          0               1   \n",
       "8350     2.0  114756.14              1          1               0   \n",
       "9731     7.0  102609.00              1          1               0   \n",
       "3541     4.0  103267.80              1          1               1   \n",
       "7412     7.0       0.00              2          1               1   \n",
       "\n",
       "      estimatedsalary  exited  \n",
       "5815        169183.66       0  \n",
       "8350        193214.05       0  \n",
       "9731        163257.44       0  \n",
       "3541         78310.04       0  \n",
       "7412         74760.32       0  "
      ]
     },
     "execution_count": 8,
     "metadata": {},
     "output_type": "execute_result"
    }
   ],
   "source": [
    "#Rellenamos los valores ausentes con la mediana(variable continua)\n",
    "b_bank['tenure'] = b_bank['tenure'].fillna(b_bank['tenure'].median())\n",
    "\n",
    "b_bank.sample(5)"
   ]
  },
  {
   "cell_type": "code",
   "execution_count": 9,
   "metadata": {
    "trusted": true
   },
   "outputs": [],
   "source": [
    "# Eliminar columnas irrelevantes\n",
    "b_bank = b_bank.drop(columns=['rownumber', 'customerid', 'surname'])"
   ]
  },
  {
   "cell_type": "code",
   "execution_count": 10,
   "metadata": {
    "trusted": true
   },
   "outputs": [
    {
     "data": {
      "text/plain": [
       "creditscore          int64\n",
       "geography           object\n",
       "gender              object\n",
       "age                  int64\n",
       "tenure             float64\n",
       "balance            float64\n",
       "numofproducts        int64\n",
       "hascrcard            int64\n",
       "isactivemember       int64\n",
       "estimatedsalary    float64\n",
       "exited               int64\n",
       "dtype: object"
      ]
     },
     "execution_count": 10,
     "metadata": {},
     "output_type": "execute_result"
    }
   ],
   "source": [
    "b_bank.dtypes"
   ]
  },
  {
   "cell_type": "markdown",
   "metadata": {},
   "source": [
    "-Las columnas geography y gender son variables categoricas."
   ]
  },
  {
   "cell_type": "markdown",
   "metadata": {},
   "source": [
    "# Transformar características categóricas "
   ]
  },
  {
   "cell_type": "code",
   "execution_count": 11,
   "metadata": {
    "trusted": true
   },
   "outputs": [],
   "source": [
    "# Aplicar One-Hot Encoding para la columna 'geography' y 'gender'\n",
    "b_bank = pd.get_dummies(b_bank, columns=['geography', 'gender'], drop_first=True)\n"
   ]
  },
  {
   "cell_type": "markdown",
   "metadata": {},
   "source": [
    "# División de datos"
   ]
  },
  {
   "cell_type": "code",
   "execution_count": 12,
   "metadata": {
    "trusted": true
   },
   "outputs": [],
   "source": [
    "# División de las características y la variable objetivo\n",
    "# La columna 'exited' es nuestra variable objetivo, que indica si un cliente abandonó (1) o no (0).\n",
    "# El resto de las columnas serán nuestras características (features), ya que contienen información relevante para predecir el abandono.\n",
    "target = b_bank['exited']  \n",
    "features = b_bank.drop('exited', axis=1)\n"
   ]
  },
  {
   "cell_type": "code",
   "execution_count": 13,
   "metadata": {
    "trusted": true
   },
   "outputs": [],
   "source": [
    "#División conjunto en entrenamiento y validación\n",
    "#Divide los datos en conjuntos de entrenamiento (75%) y validación (25%).\n",
    "features_train, features_valid, target_train, target_valid = train_test_split(\n",
    "    features, target, test_size=0.25, random_state=12345\n",
    ")\n",
    "\n"
   ]
  },
  {
   "cell_type": "markdown",
   "metadata": {},
   "source": [
    "# Escalado de características"
   ]
  },
  {
   "cell_type": "code",
   "execution_count": 14,
   "metadata": {
    "scrolled": true,
    "trusted": true
   },
   "outputs": [
    {
     "name": "stderr",
     "output_type": "stream",
     "text": [
      "/opt/conda/envs/python3/lib/python3.9/site-packages/pandas/core/indexing.py:1738: SettingWithCopyWarning: \n",
      "A value is trying to be set on a copy of a slice from a DataFrame.\n",
      "Try using .loc[row_indexer,col_indexer] = value instead\n",
      "\n",
      "See the caveats in the documentation: https://pandas.pydata.org/pandas-docs/stable/user_guide/indexing.html#returning-a-view-versus-a-copy\n",
      "  self._setitem_single_column(loc, value[:, i].tolist(), pi)\n",
      "/opt/conda/envs/python3/lib/python3.9/site-packages/pandas/core/indexing.py:1738: SettingWithCopyWarning: \n",
      "A value is trying to be set on a copy of a slice from a DataFrame.\n",
      "Try using .loc[row_indexer,col_indexer] = value instead\n",
      "\n",
      "See the caveats in the documentation: https://pandas.pydata.org/pandas-docs/stable/user_guide/indexing.html#returning-a-view-versus-a-copy\n",
      "  self._setitem_single_column(loc, value[:, i].tolist(), pi)\n"
     ]
    }
   ],
   "source": [
    "# Escalar características numéricas\n",
    "numeric = ['creditscore', 'age', 'tenure', 'balance', 'numofproducts', 'estimatedsalary']\n",
    "\n",
    "scaler = StandardScaler()\n",
    "scaler.fit(features_train[numeric])\n",
    "\n",
    "# Transformar características numéricas en los conjuntos de entrenamiento y validación\n",
    "features_train.loc[:, numeric] = scaler.transform(features_train[numeric])\n",
    "features_valid.loc[:, numeric] = scaler.transform(features_valid[numeric])\n",
    "\n"
   ]
  },
  {
   "cell_type": "markdown",
   "metadata": {},
   "source": [
    "# Analisis del desequilibrio de clases"
   ]
  },
  {
   "cell_type": "code",
   "execution_count": 15,
   "metadata": {
    "trusted": true
   },
   "outputs": [
    {
     "name": "stdout",
     "output_type": "stream",
     "text": [
      "Distribución inicial de clases en el conjunto de entrenamiento:\n",
      "Counter({0: 5998, 1: 1502})\n"
     ]
    }
   ],
   "source": [
    "# Visualizar el desequilibrio de clases\n",
    "print(\"Distribución inicial de clases en el conjunto de entrenamiento:\")\n",
    "class_distribution = Counter(target_train)\n",
    "print(class_distribution)"
   ]
  },
  {
   "cell_type": "code",
   "execution_count": 16,
   "metadata": {
    "trusted": true
   },
   "outputs": [
    {
     "data": {
      "image/png": "[encoded data removed]",
      "text/plain": [
       "<Figure size 640x480 with 1 Axes>"
      ]
     },
     "metadata": {},
     "output_type": "display_data"
    }
   ],
   "source": [
    "# Crear un gráfico de barras para visualizar el desequilibrio\n",
    "plt.bar(class_distribution.keys(), class_distribution.values(), color=['blue', 'orange'])\n",
    "plt.title(\"Distribución de Clases (Antes del Balanceo)\")\n",
    "plt.xlabel(\"Clase\")\n",
    "plt.ylabel(\"Número de Ejemplos\")\n",
    "plt.xticks([0, 1], labels=[\"Clase 0 (No Abandona)\", \"Clase 1 (Abandona)\"])\n",
    "plt.show()"
   ]
  },
  {
   "cell_type": "code",
   "execution_count": 17,
   "metadata": {
    "trusted": true
   },
   "outputs": [],
   "source": [
    "#Sobremuestreo manual\n",
    "#Dedidi usar sobremuestreo\n",
    "def upsample(features, target, repeat):\n",
    "    \n",
    "    features_zeros = features[target == 0]  # Filtrar ejemplos de la clase 0\n",
    "    features_ones = features[target == 1]  # Filtrar ejemplos de la clase 1\n",
    "    target_zeros = target[target == 0]\n",
    "    target_ones = target[target == 1]\n",
    "\n",
    "    # Repetir los ejemplos de la clase minoritaria según el factor `repeat`\n",
    "    features_upsampled = pd.concat([features_zeros] + [features_ones] * repeat)\n",
    "    target_upsampled = pd.concat([target_zeros] + [target_ones] * repeat)\n",
    "\n",
    "    # Mezclar aleatoriamente los datos sobremuestreados\n",
    "    features_upsampled, target_upsampled = shuffle(\n",
    "        features_upsampled, target_upsampled, random_state=12345\n",
    "    )\n",
    "\n",
    "    return features_upsampled, target_upsampled\n",
    "\n",
    "# Aplicar sobremuestreo\n",
    "features_upsampled, target_upsampled = upsample(features_train, target_train, 4)\n"
   ]
  },
  {
   "cell_type": "code",
   "execution_count": 18,
   "metadata": {
    "trusted": true
   },
   "outputs": [
    {
     "data": {
      "image/png": "[encoded data removed]",
      "text/plain": [
       "<Figure size 640x480 with 1 Axes>"
      ]
     },
     "metadata": {},
     "output_type": "display_data"
    }
   ],
   "source": [
    "# Visualizar la distribución después de aplicar upsampled\n",
    "class_distribution_after = Counter(target_upsampled)\n",
    "plt.bar(class_distribution_after.keys(), class_distribution_after.values(), color=['blue', 'orange'])\n",
    "plt.title(\"Distribución de Clases (Después de Upsample)\")\n",
    "plt.xlabel(\"Clase\")\n",
    "plt.ylabel(\"Número de Ejemplos\")\n",
    "plt.xticks([0, 1], labels=[\"Clase 0 (No Abandona)\", \"Clase 1 (Abandona)\"])\n",
    "plt.show()"
   ]
  },
  {
   "cell_type": "markdown",
   "metadata": {},
   "source": [
    "# Prueba del modelo"
   ]
  },
  {
   "cell_type": "code",
   "execution_count": 19,
   "metadata": {
    "trusted": true
   },
   "outputs": [],
   "source": [
    "# Inicializamos un modelo de Árbol de Decisión\n",
    "model = DecisionTreeClassifier(random_state=12345, class_weight='balanced', max_depth=5, min_samples_split=10)\n",
    "\n",
    "# Entrenamos el modelo con los datos balanceados (sobremuestreados)\n",
    "model.fit(features_upsampled, target_upsampled)\n",
    "\n",
    "# Paso 7: Validación del modelo\n",
    "# Predicciones en el conjunto de validación\n",
    "target_pred = model.predict(features_valid)\n",
    "\n",
    "# Probabilidades de predicción (si necesitas trabajar con métricas como AUC-ROC)\n",
    "target_prob = model.predict_proba(features_valid)[:, 1]\n"
   ]
  },
  {
   "cell_type": "code",
   "execution_count": 20,
   "metadata": {
    "trusted": true
   },
   "outputs": [],
   "source": [
    "# Obtener las probabilidades predichas para la clase 1\n",
    "probabilities_valid = model.predict_proba(features_valid)\n",
    "probabilities_one_valid = probabilities_valid[:, 1]"
   ]
  },
  {
   "cell_type": "markdown",
   "metadata": {},
   "source": [
    "# Analisis resultados"
   ]
  },
  {
   "cell_type": "code",
   "execution_count": 21,
   "metadata": {
    "trusted": true
   },
   "outputs": [
    {
     "data": {
      "image/png": "[encoded data removed]",
      "text/plain": [
       "<Figure size 640x480 with 1 Axes>"
      ]
     },
     "metadata": {},
     "output_type": "display_data"
    }
   ],
   "source": [
    "# Calcular las tasas FPR (Tasa de Falsos Positivos) y TPR (Tasa de Verdaderos Positivos)\n",
    "fpr, tpr, thresholds = roc_curve(target_valid, probabilities_one_valid)\n",
    "\n",
    "# Graficar la Curva ROC\n",
    "plt.figure()\n",
    "plt.plot(fpr, tpr, label=\"Curva ROC\")\n",
    "plt.plot([0, 1], [0, 1], linestyle='--', color='gray', label=\"Modelo aleatorio\")\n",
    "plt.xlim([0.0, 1.0])\n",
    "plt.ylim([0.0, 1.0])\n",
    "plt.xlabel('Tasa de Falsos Positivos (FPR)')\n",
    "plt.ylabel('Tasa de Verdaderos Positivos (TPR)')\n",
    "plt.title('Curva ROC')\n",
    "plt.legend()\n",
    "plt.show()\n"
   ]
  },
  {
   "cell_type": "code",
   "execution_count": 22,
   "metadata": {
    "scrolled": true,
    "trusted": true
   },
   "outputs": [
    {
     "name": "stdout",
     "output_type": "stream",
     "text": [
      "\n",
      "Evaluación del modelo:\n",
      "F1-Score: 0.6016129032258064\n",
      "AUC-ROC: 0.8462015172052983\n",
      "\n",
      "Reporte de clasificación:\n",
      "\n",
      "              precision    recall  f1-score   support\n",
      "\n",
      "           0       0.91      0.83      0.87      1965\n",
      "           1       0.53      0.70      0.60       535\n",
      "\n",
      "    accuracy                           0.80      2500\n",
      "   macro avg       0.72      0.76      0.74      2500\n",
      "weighted avg       0.83      0.80      0.81      2500\n",
      "\n"
     ]
    }
   ],
   "source": [
    "# Evaluar el modelo\n",
    "print(\"\\nEvaluación del modelo:\")\n",
    "print(\"F1-Score:\", f1_score(target_valid, target_pred))\n",
    "print(\"AUC-ROC:\", roc_auc_score(target_valid, target_prob))\n",
    "print(\"\\nReporte de clasificación:\\n\")\n",
    "print( classification_report(target_valid, target_pred))"
   ]
  }
 ],
 "metadata": {
  "ExecuteTimeLog": [
   {
    "duration": 317,
    "start_time": "2024-11-17T10:37:07.135Z"
   },
   {
    "duration": 26,
    "start_time": "2024-11-17T10:38:07.736Z"
   },
   {
    "duration": 15,
    "start_time": "2024-11-17T10:38:38.017Z"
   },
   {
    "duration": 173,
    "start_time": "2024-11-17T10:38:58.109Z"
   },
   {
    "duration": 12,
    "start_time": "2024-11-17T10:39:08.221Z"
   },
   {
    "duration": 5,
    "start_time": "2024-11-17T10:44:07.696Z"
   },
   {
    "duration": 36,
    "start_time": "2024-11-17T10:44:41.860Z"
   },
   {
    "duration": 16,
    "start_time": "2024-11-17T10:45:08.881Z"
   },
   {
    "duration": 162,
    "start_time": "2024-11-19T11:50:56.697Z"
   },
   {
    "duration": 318,
    "start_time": "2024-11-19T11:51:06.409Z"
   },
   {
    "duration": 20,
    "start_time": "2024-11-19T11:51:06.730Z"
   },
   {
    "duration": 42,
    "start_time": "2024-11-19T11:51:06.751Z"
   },
   {
    "duration": 17,
    "start_time": "2024-11-19T11:51:06.794Z"
   },
   {
    "duration": 33,
    "start_time": "2024-11-19T11:51:09.293Z"
   },
   {
    "duration": 367,
    "start_time": "2024-11-19T11:51:16.396Z"
   },
   {
    "duration": 7,
    "start_time": "2024-11-19T11:52:58.638Z"
   },
   {
    "duration": 9,
    "start_time": "2024-11-19T11:53:27.246Z"
   },
   {
    "duration": 37,
    "start_time": "2024-11-19T12:03:25.844Z"
   },
   {
    "duration": 3,
    "start_time": "2024-11-19T12:03:33.622Z"
   },
   {
    "duration": 15,
    "start_time": "2024-11-19T12:03:33.627Z"
   },
   {
    "duration": 33,
    "start_time": "2024-11-19T12:03:33.644Z"
   },
   {
    "duration": 17,
    "start_time": "2024-11-19T12:03:33.678Z"
   },
   {
    "duration": 4,
    "start_time": "2024-11-19T12:03:33.697Z"
   },
   {
    "duration": 6,
    "start_time": "2024-11-19T12:03:33.702Z"
   },
   {
    "duration": 9,
    "start_time": "2024-11-19T12:03:33.710Z"
   },
   {
    "duration": 4,
    "start_time": "2024-11-19T12:03:38.683Z"
   },
   {
    "duration": 11,
    "start_time": "2024-11-19T12:04:15.146Z"
   },
   {
    "duration": 11,
    "start_time": "2024-11-19T12:07:02.254Z"
   },
   {
    "duration": 188,
    "start_time": "2024-11-19T21:52:58.177Z"
   },
   {
    "duration": 851,
    "start_time": "2024-11-19T21:53:46.704Z"
   },
   {
    "duration": 26,
    "start_time": "2024-11-19T21:53:47.557Z"
   },
   {
    "duration": 53,
    "start_time": "2024-11-19T21:53:47.585Z"
   },
   {
    "duration": 16,
    "start_time": "2024-11-19T21:53:47.641Z"
   },
   {
    "duration": 2,
    "start_time": "2024-11-19T21:53:47.659Z"
   },
   {
    "duration": 5,
    "start_time": "2024-11-19T21:53:47.664Z"
   },
   {
    "duration": 38,
    "start_time": "2024-11-19T21:53:47.671Z"
   },
   {
    "duration": 17,
    "start_time": "2024-11-19T21:53:47.711Z"
   },
   {
    "duration": 1080,
    "start_time": "2024-11-19T21:53:47.729Z"
   },
   {
    "duration": 7,
    "start_time": "2024-11-19T21:54:59.264Z"
   },
   {
    "duration": 27,
    "start_time": "2024-11-19T21:57:23.603Z"
   },
   {
    "duration": 24,
    "start_time": "2024-11-19T21:57:43.154Z"
   },
   {
    "duration": 52,
    "start_time": "2024-11-19T21:57:48.267Z"
   },
   {
    "duration": 20,
    "start_time": "2024-11-19T22:05:23.593Z"
   },
   {
    "duration": 813,
    "start_time": "2024-11-19T22:05:57.015Z"
   },
   {
    "duration": 15,
    "start_time": "2024-11-19T22:05:57.831Z"
   },
   {
    "duration": 70,
    "start_time": "2024-11-19T22:05:57.848Z"
   },
   {
    "duration": 16,
    "start_time": "2024-11-19T22:05:57.921Z"
   },
   {
    "duration": 2,
    "start_time": "2024-11-19T22:05:57.939Z"
   },
   {
    "duration": 6,
    "start_time": "2024-11-19T22:05:57.943Z"
   },
   {
    "duration": 11,
    "start_time": "2024-11-19T22:05:57.950Z"
   },
   {
    "duration": 31,
    "start_time": "2024-11-19T22:05:57.962Z"
   },
   {
    "duration": 162,
    "start_time": "2024-11-19T22:05:57.995Z"
   },
   {
    "duration": 0,
    "start_time": "2024-11-19T22:05:58.160Z"
   },
   {
    "duration": 0,
    "start_time": "2024-11-19T22:05:58.161Z"
   },
   {
    "duration": 11,
    "start_time": "2024-11-19T22:07:08.736Z"
   },
   {
    "duration": 7,
    "start_time": "2024-11-19T22:07:59.233Z"
   },
   {
    "duration": 3,
    "start_time": "2024-11-19T22:08:16.031Z"
   },
   {
    "duration": 21,
    "start_time": "2024-11-19T22:08:33.700Z"
   },
   {
    "duration": 13,
    "start_time": "2024-11-19T22:08:51.353Z"
   },
   {
    "duration": 645,
    "start_time": "2024-11-19T22:11:17.376Z"
   },
   {
    "duration": 198,
    "start_time": "2024-11-19T22:11:34.340Z"
   },
   {
    "duration": 839,
    "start_time": "2024-11-19T22:11:59.334Z"
   },
   {
    "duration": 30,
    "start_time": "2024-11-19T22:12:00.175Z"
   },
   {
    "duration": 53,
    "start_time": "2024-11-19T22:12:00.219Z"
   },
   {
    "duration": 44,
    "start_time": "2024-11-19T22:12:00.274Z"
   },
   {
    "duration": 3,
    "start_time": "2024-11-19T22:12:00.322Z"
   },
   {
    "duration": 5,
    "start_time": "2024-11-19T22:12:00.327Z"
   },
   {
    "duration": 10,
    "start_time": "2024-11-19T22:12:00.334Z"
   },
   {
    "duration": 14,
    "start_time": "2024-11-19T22:12:00.347Z"
   },
   {
    "duration": 195,
    "start_time": "2024-11-19T22:12:00.363Z"
   },
   {
    "duration": 0,
    "start_time": "2024-11-19T22:12:00.560Z"
   },
   {
    "duration": 0,
    "start_time": "2024-11-19T22:12:00.561Z"
   },
   {
    "duration": 162,
    "start_time": "2024-11-20T10:28:30.904Z"
   },
   {
    "duration": 12,
    "start_time": "2024-11-20T10:28:34.594Z"
   },
   {
    "duration": 804,
    "start_time": "2024-11-20T10:28:42.128Z"
   },
   {
    "duration": 20,
    "start_time": "2024-11-20T10:28:42.934Z"
   },
   {
    "duration": 38,
    "start_time": "2024-11-20T10:28:42.956Z"
   },
   {
    "duration": 17,
    "start_time": "2024-11-20T10:28:43.005Z"
   },
   {
    "duration": 3,
    "start_time": "2024-11-20T10:28:43.024Z"
   },
   {
    "duration": 5,
    "start_time": "2024-11-20T10:28:43.028Z"
   },
   {
    "duration": 9,
    "start_time": "2024-11-20T10:28:43.035Z"
   },
   {
    "duration": 11,
    "start_time": "2024-11-20T10:28:43.045Z"
   },
   {
    "duration": 878,
    "start_time": "2024-11-20T10:28:43.058Z"
   },
   {
    "duration": 0,
    "start_time": "2024-11-20T10:28:43.937Z"
   },
   {
    "duration": 0,
    "start_time": "2024-11-20T10:28:43.939Z"
   },
   {
    "duration": 0,
    "start_time": "2024-11-20T10:28:43.941Z"
   },
   {
    "duration": 0,
    "start_time": "2024-11-20T10:28:43.942Z"
   },
   {
    "duration": 4,
    "start_time": "2024-11-20T10:29:29.302Z"
   },
   {
    "duration": 14,
    "start_time": "2024-11-20T10:29:31.675Z"
   },
   {
    "duration": 5,
    "start_time": "2024-11-20T10:29:47.166Z"
   },
   {
    "duration": 174,
    "start_time": "2024-11-21T10:58:23.180Z"
   },
   {
    "duration": 760,
    "start_time": "2024-11-21T10:58:30.870Z"
   },
   {
    "duration": 21,
    "start_time": "2024-11-21T10:58:31.632Z"
   },
   {
    "duration": 47,
    "start_time": "2024-11-21T10:58:31.655Z"
   },
   {
    "duration": 19,
    "start_time": "2024-11-21T10:58:31.705Z"
   },
   {
    "duration": 2,
    "start_time": "2024-11-21T10:58:31.727Z"
   },
   {
    "duration": 7,
    "start_time": "2024-11-21T10:58:31.731Z"
   },
   {
    "duration": 10,
    "start_time": "2024-11-21T10:58:31.740Z"
   },
   {
    "duration": 38,
    "start_time": "2024-11-21T10:58:31.752Z"
   },
   {
    "duration": 3,
    "start_time": "2024-11-21T10:58:31.792Z"
   },
   {
    "duration": 5,
    "start_time": "2024-11-21T10:58:31.798Z"
   },
   {
    "duration": 169,
    "start_time": "2024-11-21T10:58:31.804Z"
   },
   {
    "duration": 0,
    "start_time": "2024-11-21T10:58:31.975Z"
   },
   {
    "duration": 0,
    "start_time": "2024-11-21T10:58:31.976Z"
   },
   {
    "duration": 0,
    "start_time": "2024-11-21T10:58:31.977Z"
   },
   {
    "duration": 448,
    "start_time": "2024-11-21T10:59:14.991Z"
   },
   {
    "duration": 786,
    "start_time": "2024-11-21T10:59:36.406Z"
   },
   {
    "duration": 15,
    "start_time": "2024-11-21T10:59:37.195Z"
   },
   {
    "duration": 37,
    "start_time": "2024-11-21T10:59:37.212Z"
   },
   {
    "duration": 35,
    "start_time": "2024-11-21T10:59:37.251Z"
   },
   {
    "duration": 3,
    "start_time": "2024-11-21T10:59:37.288Z"
   },
   {
    "duration": 7,
    "start_time": "2024-11-21T10:59:37.292Z"
   },
   {
    "duration": 10,
    "start_time": "2024-11-21T10:59:37.300Z"
   },
   {
    "duration": 12,
    "start_time": "2024-11-21T10:59:37.311Z"
   },
   {
    "duration": 3,
    "start_time": "2024-11-21T10:59:37.325Z"
   },
   {
    "duration": 5,
    "start_time": "2024-11-21T10:59:37.330Z"
   },
   {
    "duration": 68,
    "start_time": "2024-11-21T10:59:37.338Z"
   },
   {
    "duration": 6,
    "start_time": "2024-11-21T10:59:37.407Z"
   },
   {
    "duration": 7,
    "start_time": "2024-11-21T10:59:37.415Z"
   },
   {
    "duration": 84,
    "start_time": "2024-11-21T10:59:37.424Z"
   },
   {
    "duration": 556,
    "start_time": "2024-11-21T11:02:39.005Z"
   },
   {
    "duration": 714,
    "start_time": "2024-11-21T11:04:54.663Z"
   },
   {
    "duration": 15,
    "start_time": "2024-11-21T11:04:55.379Z"
   },
   {
    "duration": 37,
    "start_time": "2024-11-21T11:04:55.396Z"
   },
   {
    "duration": 15,
    "start_time": "2024-11-21T11:04:55.436Z"
   },
   {
    "duration": 2,
    "start_time": "2024-11-21T11:04:55.453Z"
   },
   {
    "duration": 31,
    "start_time": "2024-11-21T11:04:55.457Z"
   },
   {
    "duration": 9,
    "start_time": "2024-11-21T11:04:55.490Z"
   },
   {
    "duration": 11,
    "start_time": "2024-11-21T11:04:55.501Z"
   },
   {
    "duration": 3,
    "start_time": "2024-11-21T11:04:55.513Z"
   },
   {
    "duration": 4,
    "start_time": "2024-11-21T11:04:55.518Z"
   },
   {
    "duration": 9,
    "start_time": "2024-11-21T11:04:55.524Z"
   },
   {
    "duration": 65,
    "start_time": "2024-11-21T11:04:55.535Z"
   },
   {
    "duration": 4,
    "start_time": "2024-11-21T11:04:55.601Z"
   },
   {
    "duration": 778,
    "start_time": "2024-11-21T11:10:02.103Z"
   },
   {
    "duration": 16,
    "start_time": "2024-11-21T11:10:02.883Z"
   },
   {
    "duration": 38,
    "start_time": "2024-11-21T11:10:02.901Z"
   },
   {
    "duration": 16,
    "start_time": "2024-11-21T11:10:02.941Z"
   },
   {
    "duration": 3,
    "start_time": "2024-11-21T11:10:02.958Z"
   },
   {
    "duration": 28,
    "start_time": "2024-11-21T11:10:02.962Z"
   },
   {
    "duration": 9,
    "start_time": "2024-11-21T11:10:02.992Z"
   },
   {
    "duration": 11,
    "start_time": "2024-11-21T11:10:03.002Z"
   },
   {
    "duration": 4,
    "start_time": "2024-11-21T11:10:03.014Z"
   },
   {
    "duration": 4,
    "start_time": "2024-11-21T11:10:03.022Z"
   },
   {
    "duration": 9,
    "start_time": "2024-11-21T11:10:03.030Z"
   },
   {
    "duration": 58,
    "start_time": "2024-11-21T11:10:03.040Z"
   },
   {
    "duration": 5,
    "start_time": "2024-11-21T11:10:03.100Z"
   },
   {
    "duration": 718,
    "start_time": "2024-11-25T15:38:03.664Z"
   },
   {
    "duration": 27,
    "start_time": "2024-11-25T15:38:04.384Z"
   },
   {
    "duration": 37,
    "start_time": "2024-11-25T15:38:04.413Z"
   },
   {
    "duration": 15,
    "start_time": "2024-11-25T15:38:04.453Z"
   },
   {
    "duration": 2,
    "start_time": "2024-11-25T15:38:04.470Z"
   },
   {
    "duration": 6,
    "start_time": "2024-11-25T15:38:04.486Z"
   },
   {
    "duration": 9,
    "start_time": "2024-11-25T15:38:04.493Z"
   },
   {
    "duration": 11,
    "start_time": "2024-11-25T15:38:04.504Z"
   },
   {
    "duration": 4,
    "start_time": "2024-11-25T15:38:04.516Z"
   },
   {
    "duration": 4,
    "start_time": "2024-11-25T15:38:04.523Z"
   },
   {
    "duration": 6,
    "start_time": "2024-11-25T15:38:04.529Z"
   },
   {
    "duration": 4,
    "start_time": "2024-11-25T15:38:04.536Z"
   },
   {
    "duration": 253,
    "start_time": "2024-11-25T15:38:04.542Z"
   },
   {
    "duration": 0,
    "start_time": "2024-11-25T15:38:04.797Z"
   },
   {
    "duration": 0,
    "start_time": "2024-11-25T15:38:04.799Z"
   },
   {
    "duration": 0,
    "start_time": "2024-11-25T15:38:04.800Z"
   },
   {
    "duration": 2,
    "start_time": "2024-11-25T15:38:35.417Z"
   },
   {
    "duration": 14,
    "start_time": "2024-11-25T15:38:35.422Z"
   },
   {
    "duration": 33,
    "start_time": "2024-11-25T15:38:35.438Z"
   },
   {
    "duration": 16,
    "start_time": "2024-11-25T15:38:35.473Z"
   },
   {
    "duration": 2,
    "start_time": "2024-11-25T15:38:35.492Z"
   },
   {
    "duration": 6,
    "start_time": "2024-11-25T15:38:35.496Z"
   },
   {
    "duration": 9,
    "start_time": "2024-11-25T15:38:35.504Z"
   },
   {
    "duration": 11,
    "start_time": "2024-11-25T15:38:35.515Z"
   },
   {
    "duration": 3,
    "start_time": "2024-11-25T15:38:35.528Z"
   },
   {
    "duration": 4,
    "start_time": "2024-11-25T15:38:35.534Z"
   },
   {
    "duration": 8,
    "start_time": "2024-11-25T15:38:35.539Z"
   },
   {
    "duration": 41,
    "start_time": "2024-11-25T15:38:35.548Z"
   },
   {
    "duration": 28,
    "start_time": "2024-11-25T15:38:35.591Z"
   },
   {
    "duration": 303,
    "start_time": "2024-11-25T15:38:38.226Z"
   },
   {
    "duration": 752,
    "start_time": "2024-11-25T15:38:55.644Z"
   },
   {
    "duration": 15,
    "start_time": "2024-11-25T15:38:56.399Z"
   },
   {
    "duration": 38,
    "start_time": "2024-11-25T15:38:56.415Z"
   },
   {
    "duration": 31,
    "start_time": "2024-11-25T15:38:56.455Z"
   },
   {
    "duration": 3,
    "start_time": "2024-11-25T15:38:56.488Z"
   },
   {
    "duration": 7,
    "start_time": "2024-11-25T15:38:56.492Z"
   },
   {
    "duration": 10,
    "start_time": "2024-11-25T15:38:56.500Z"
   },
   {
    "duration": 11,
    "start_time": "2024-11-25T15:38:56.511Z"
   },
   {
    "duration": 2,
    "start_time": "2024-11-25T15:38:56.524Z"
   },
   {
    "duration": 4,
    "start_time": "2024-11-25T15:38:56.529Z"
   },
   {
    "duration": 7,
    "start_time": "2024-11-25T15:38:56.535Z"
   },
   {
    "duration": 4,
    "start_time": "2024-11-25T15:38:56.586Z"
   },
   {
    "duration": 27,
    "start_time": "2024-11-25T15:38:56.592Z"
   },
   {
    "duration": 520,
    "start_time": "2024-11-25T15:38:56.621Z"
   },
   {
    "duration": 0,
    "start_time": "2024-11-25T15:38:57.143Z"
   },
   {
    "duration": 0,
    "start_time": "2024-11-25T15:38:57.144Z"
   },
   {
    "duration": 7,
    "start_time": "2024-11-25T15:40:06.798Z"
   },
   {
    "duration": 5,
    "start_time": "2024-11-25T15:40:10.832Z"
   },
   {
    "duration": 14,
    "start_time": "2024-11-25T15:40:12.079Z"
   },
   {
    "duration": 35,
    "start_time": "2024-11-25T17:48:43.619Z"
   },
   {
    "duration": 34,
    "start_time": "2024-11-25T17:52:41.433Z"
   },
   {
    "duration": 129,
    "start_time": "2024-11-25T17:55:19.788Z"
   },
   {
    "duration": 17,
    "start_time": "2024-11-25T17:56:18.753Z"
   },
   {
    "duration": 161,
    "start_time": "2024-11-26T08:45:51.559Z"
   },
   {
    "duration": 736,
    "start_time": "2024-11-26T08:45:59.207Z"
   },
   {
    "duration": 25,
    "start_time": "2024-11-26T08:45:59.945Z"
   },
   {
    "duration": 38,
    "start_time": "2024-11-26T08:45:59.972Z"
   },
   {
    "duration": 14,
    "start_time": "2024-11-26T08:46:00.013Z"
   },
   {
    "duration": 2,
    "start_time": "2024-11-26T08:46:00.033Z"
   },
   {
    "duration": 5,
    "start_time": "2024-11-26T08:46:00.037Z"
   },
   {
    "duration": 9,
    "start_time": "2024-11-26T08:46:00.044Z"
   },
   {
    "duration": 11,
    "start_time": "2024-11-26T08:46:00.055Z"
   },
   {
    "duration": 4,
    "start_time": "2024-11-26T08:46:00.067Z"
   },
   {
    "duration": 4,
    "start_time": "2024-11-26T08:46:00.074Z"
   },
   {
    "duration": 7,
    "start_time": "2024-11-26T08:46:00.080Z"
   },
   {
    "duration": 44,
    "start_time": "2024-11-26T08:46:00.089Z"
   },
   {
    "duration": 29,
    "start_time": "2024-11-26T08:46:00.135Z"
   },
   {
    "duration": 18,
    "start_time": "2024-11-26T08:46:00.165Z"
   },
   {
    "duration": 5,
    "start_time": "2024-11-26T08:46:00.185Z"
   },
   {
    "duration": 47,
    "start_time": "2024-11-26T08:46:00.191Z"
   },
   {
    "duration": 768,
    "start_time": "2024-11-26T08:47:33.366Z"
   },
   {
    "duration": 17,
    "start_time": "2024-11-26T08:47:34.136Z"
   },
   {
    "duration": 38,
    "start_time": "2024-11-26T08:47:34.155Z"
   },
   {
    "duration": 15,
    "start_time": "2024-11-26T08:47:34.196Z"
   },
   {
    "duration": 3,
    "start_time": "2024-11-26T08:47:34.230Z"
   },
   {
    "duration": 7,
    "start_time": "2024-11-26T08:47:34.235Z"
   },
   {
    "duration": 10,
    "start_time": "2024-11-26T08:47:34.244Z"
   },
   {
    "duration": 11,
    "start_time": "2024-11-26T08:47:34.256Z"
   },
   {
    "duration": 3,
    "start_time": "2024-11-26T08:47:34.269Z"
   },
   {
    "duration": 5,
    "start_time": "2024-11-26T08:47:34.276Z"
   },
   {
    "duration": 7,
    "start_time": "2024-11-26T08:47:34.283Z"
   },
   {
    "duration": 41,
    "start_time": "2024-11-26T08:47:34.292Z"
   },
   {
    "duration": 29,
    "start_time": "2024-11-26T08:47:34.335Z"
   },
   {
    "duration": 19,
    "start_time": "2024-11-26T08:47:34.366Z"
   },
   {
    "duration": 45,
    "start_time": "2024-11-26T08:47:34.387Z"
   },
   {
    "duration": 14,
    "start_time": "2024-11-26T08:47:34.434Z"
   },
   {
    "duration": 17,
    "start_time": "2024-11-26T08:49:35.249Z"
   },
   {
    "duration": 735,
    "start_time": "2024-11-26T08:49:43.314Z"
   },
   {
    "duration": 14,
    "start_time": "2024-11-26T08:49:44.052Z"
   },
   {
    "duration": 41,
    "start_time": "2024-11-26T08:49:44.068Z"
   },
   {
    "duration": 28,
    "start_time": "2024-11-26T08:49:44.110Z"
   },
   {
    "duration": 3,
    "start_time": "2024-11-26T08:49:44.141Z"
   },
   {
    "duration": 6,
    "start_time": "2024-11-26T08:49:44.145Z"
   },
   {
    "duration": 9,
    "start_time": "2024-11-26T08:49:44.153Z"
   },
   {
    "duration": 11,
    "start_time": "2024-11-26T08:49:44.164Z"
   },
   {
    "duration": 4,
    "start_time": "2024-11-26T08:49:44.177Z"
   },
   {
    "duration": 5,
    "start_time": "2024-11-26T08:49:44.182Z"
   },
   {
    "duration": 44,
    "start_time": "2024-11-26T08:49:44.189Z"
   },
   {
    "duration": 4,
    "start_time": "2024-11-26T08:49:44.235Z"
   },
   {
    "duration": 28,
    "start_time": "2024-11-26T08:49:44.240Z"
   },
   {
    "duration": 17,
    "start_time": "2024-11-26T08:49:44.271Z"
   },
   {
    "duration": 45,
    "start_time": "2024-11-26T08:49:44.289Z"
   },
   {
    "duration": 12,
    "start_time": "2024-11-26T08:49:44.335Z"
   },
   {
    "duration": 158,
    "start_time": "2024-11-28T10:16:28.999Z"
   },
   {
    "duration": 732,
    "start_time": "2024-11-28T10:16:43.508Z"
   },
   {
    "duration": 27,
    "start_time": "2024-11-28T10:16:44.242Z"
   },
   {
    "duration": 38,
    "start_time": "2024-11-28T10:16:44.270Z"
   },
   {
    "duration": 19,
    "start_time": "2024-11-28T10:16:44.310Z"
   },
   {
    "duration": 3,
    "start_time": "2024-11-28T10:16:44.330Z"
   },
   {
    "duration": 7,
    "start_time": "2024-11-28T10:16:44.334Z"
   },
   {
    "duration": 10,
    "start_time": "2024-11-28T10:16:44.342Z"
   },
   {
    "duration": 11,
    "start_time": "2024-11-28T10:16:44.354Z"
   },
   {
    "duration": 3,
    "start_time": "2024-11-28T10:16:44.367Z"
   },
   {
    "duration": 4,
    "start_time": "2024-11-28T10:16:44.373Z"
   },
   {
    "duration": 48,
    "start_time": "2024-11-28T10:16:44.378Z"
   },
   {
    "duration": 6,
    "start_time": "2024-11-28T10:16:44.427Z"
   },
   {
    "duration": 27,
    "start_time": "2024-11-28T10:16:44.435Z"
   },
   {
    "duration": 17,
    "start_time": "2024-11-28T10:16:44.464Z"
   },
   {
    "duration": 44,
    "start_time": "2024-11-28T10:16:44.482Z"
   },
   {
    "duration": 14,
    "start_time": "2024-11-28T10:16:44.527Z"
   },
   {
    "duration": 230,
    "start_time": "2024-11-28T10:25:34.563Z"
   },
   {
    "duration": 727,
    "start_time": "2024-11-28T10:26:03.790Z"
   },
   {
    "duration": 17,
    "start_time": "2024-11-28T10:26:04.519Z"
   },
   {
    "duration": 38,
    "start_time": "2024-11-28T10:26:04.537Z"
   },
   {
    "duration": 15,
    "start_time": "2024-11-28T10:26:04.577Z"
   },
   {
    "duration": 3,
    "start_time": "2024-11-28T10:26:04.593Z"
   },
   {
    "duration": 27,
    "start_time": "2024-11-28T10:26:04.597Z"
   },
   {
    "duration": 9,
    "start_time": "2024-11-28T10:26:04.626Z"
   },
   {
    "duration": 12,
    "start_time": "2024-11-28T10:26:04.636Z"
   },
   {
    "duration": 3,
    "start_time": "2024-11-28T10:26:04.649Z"
   },
   {
    "duration": 4,
    "start_time": "2024-11-28T10:26:04.655Z"
   },
   {
    "duration": 7,
    "start_time": "2024-11-28T10:26:04.661Z"
   },
   {
    "duration": 4,
    "start_time": "2024-11-28T10:26:04.670Z"
   },
   {
    "duration": 5,
    "start_time": "2024-11-28T10:26:04.675Z"
   },
   {
    "duration": 59,
    "start_time": "2024-11-28T10:26:04.682Z"
   },
   {
    "duration": 229,
    "start_time": "2024-11-28T10:26:04.742Z"
   },
   {
    "duration": 0,
    "start_time": "2024-11-28T10:26:04.973Z"
   },
   {
    "duration": 0,
    "start_time": "2024-11-28T10:26:04.974Z"
   },
   {
    "duration": 0,
    "start_time": "2024-11-28T10:26:04.976Z"
   },
   {
    "duration": 22,
    "start_time": "2024-11-28T10:27:19.383Z"
   },
   {
    "duration": 729,
    "start_time": "2024-11-28T10:27:50.501Z"
   },
   {
    "duration": 16,
    "start_time": "2024-11-28T10:27:51.232Z"
   },
   {
    "duration": 36,
    "start_time": "2024-11-28T10:27:51.249Z"
   },
   {
    "duration": 16,
    "start_time": "2024-11-28T10:27:51.288Z"
   },
   {
    "duration": 17,
    "start_time": "2024-11-28T10:27:51.307Z"
   },
   {
    "duration": 7,
    "start_time": "2024-11-28T10:27:51.326Z"
   },
   {
    "duration": 12,
    "start_time": "2024-11-28T10:27:51.334Z"
   },
   {
    "duration": 11,
    "start_time": "2024-11-28T10:27:51.348Z"
   },
   {
    "duration": 3,
    "start_time": "2024-11-28T10:27:51.361Z"
   },
   {
    "duration": 4,
    "start_time": "2024-11-28T10:27:51.367Z"
   },
   {
    "duration": 7,
    "start_time": "2024-11-28T10:27:51.372Z"
   },
   {
    "duration": 43,
    "start_time": "2024-11-28T10:27:51.380Z"
   },
   {
    "duration": 5,
    "start_time": "2024-11-28T10:27:51.425Z"
   },
   {
    "duration": 19,
    "start_time": "2024-11-28T10:27:51.431Z"
   },
   {
    "duration": 14,
    "start_time": "2024-11-28T10:27:51.451Z"
   },
   {
    "duration": 15,
    "start_time": "2024-11-28T10:27:51.466Z"
   },
   {
    "duration": 41,
    "start_time": "2024-11-28T10:27:51.483Z"
   },
   {
    "duration": 13,
    "start_time": "2024-11-28T10:27:51.529Z"
   },
   {
    "duration": 11,
    "start_time": "2024-11-28T10:28:44.822Z"
   },
   {
    "duration": 31,
    "start_time": "2024-11-28T10:29:54.581Z"
   },
   {
    "duration": 722,
    "start_time": "2024-11-28T10:30:04.423Z"
   },
   {
    "duration": 15,
    "start_time": "2024-11-28T10:30:05.147Z"
   },
   {
    "duration": 38,
    "start_time": "2024-11-28T10:30:05.164Z"
   },
   {
    "duration": 32,
    "start_time": "2024-11-28T10:30:05.205Z"
   },
   {
    "duration": 3,
    "start_time": "2024-11-28T10:30:05.239Z"
   },
   {
    "duration": 7,
    "start_time": "2024-11-28T10:30:05.244Z"
   },
   {
    "duration": 9,
    "start_time": "2024-11-28T10:30:05.253Z"
   },
   {
    "duration": 11,
    "start_time": "2024-11-28T10:30:05.264Z"
   },
   {
    "duration": 2,
    "start_time": "2024-11-28T10:30:05.277Z"
   },
   {
    "duration": 5,
    "start_time": "2024-11-28T10:30:05.282Z"
   },
   {
    "duration": 42,
    "start_time": "2024-11-28T10:30:05.288Z"
   },
   {
    "duration": 4,
    "start_time": "2024-11-28T10:30:05.331Z"
   },
   {
    "duration": 6,
    "start_time": "2024-11-28T10:30:05.336Z"
   },
   {
    "duration": 18,
    "start_time": "2024-11-28T10:30:05.343Z"
   },
   {
    "duration": 13,
    "start_time": "2024-11-28T10:30:05.362Z"
   },
   {
    "duration": 64,
    "start_time": "2024-11-28T10:30:05.376Z"
   },
   {
    "duration": 8,
    "start_time": "2024-11-28T10:30:05.441Z"
   },
   {
    "duration": 74,
    "start_time": "2024-11-28T10:30:05.450Z"
   },
   {
    "duration": 210,
    "start_time": "2024-11-30T00:37:16.614Z"
   },
   {
    "duration": 934,
    "start_time": "2024-11-30T00:37:24.122Z"
   },
   {
    "duration": 28,
    "start_time": "2024-11-30T00:37:25.058Z"
   },
   {
    "duration": 57,
    "start_time": "2024-11-30T00:37:25.087Z"
   },
   {
    "duration": 16,
    "start_time": "2024-11-30T00:37:25.146Z"
   },
   {
    "duration": 2,
    "start_time": "2024-11-30T00:37:25.165Z"
   },
   {
    "duration": 6,
    "start_time": "2024-11-30T00:37:25.169Z"
   },
   {
    "duration": 10,
    "start_time": "2024-11-30T00:37:25.177Z"
   },
   {
    "duration": 41,
    "start_time": "2024-11-30T00:37:25.188Z"
   },
   {
    "duration": 4,
    "start_time": "2024-11-30T00:37:25.230Z"
   },
   {
    "duration": 10,
    "start_time": "2024-11-30T00:37:25.236Z"
   },
   {
    "duration": 9,
    "start_time": "2024-11-30T00:37:25.248Z"
   },
   {
    "duration": 5,
    "start_time": "2024-11-30T00:37:25.259Z"
   },
   {
    "duration": 6,
    "start_time": "2024-11-30T00:37:25.266Z"
   },
   {
    "duration": 66,
    "start_time": "2024-11-30T00:37:25.275Z"
   },
   {
    "duration": 13,
    "start_time": "2024-11-30T00:37:25.344Z"
   },
   {
    "duration": 66,
    "start_time": "2024-11-30T00:37:25.359Z"
   },
   {
    "duration": 11,
    "start_time": "2024-11-30T00:37:25.433Z"
   },
   {
    "duration": 75,
    "start_time": "2024-11-30T00:37:25.445Z"
   },
   {
    "duration": 5,
    "start_time": "2024-11-30T00:40:17.883Z"
   },
   {
    "duration": 4,
    "start_time": "2024-11-30T00:40:29.293Z"
   },
   {
    "duration": 3,
    "start_time": "2024-11-30T00:40:36.388Z"
   },
   {
    "duration": 4,
    "start_time": "2024-11-30T00:40:42.374Z"
   },
   {
    "duration": 996,
    "start_time": "2024-12-03T11:32:35.614Z"
   },
   {
    "duration": 1902,
    "start_time": "2024-12-03T11:34:44.961Z"
   },
   {
    "duration": 26,
    "start_time": "2024-12-03T11:39:14.417Z"
   },
   {
    "duration": 13,
    "start_time": "2024-12-03T11:39:22.480Z"
   },
   {
    "duration": 3,
    "start_time": "2024-12-03T11:39:28.187Z"
   },
   {
    "duration": 27,
    "start_time": "2024-12-03T11:39:28.192Z"
   },
   {
    "duration": 37,
    "start_time": "2024-12-03T11:39:28.221Z"
   },
   {
    "duration": 16,
    "start_time": "2024-12-03T11:39:28.260Z"
   },
   {
    "duration": 3,
    "start_time": "2024-12-03T11:39:28.278Z"
   },
   {
    "duration": 6,
    "start_time": "2024-12-03T11:39:28.282Z"
   },
   {
    "duration": 10,
    "start_time": "2024-12-03T11:39:28.289Z"
   },
   {
    "duration": 11,
    "start_time": "2024-12-03T11:39:28.301Z"
   },
   {
    "duration": 3,
    "start_time": "2024-12-03T11:39:28.314Z"
   },
   {
    "duration": 4,
    "start_time": "2024-12-03T11:39:28.319Z"
   },
   {
    "duration": 47,
    "start_time": "2024-12-03T11:39:28.325Z"
   },
   {
    "duration": 5,
    "start_time": "2024-12-03T11:39:28.373Z"
   },
   {
    "duration": 5,
    "start_time": "2024-12-03T11:39:30.939Z"
   },
   {
    "duration": 98,
    "start_time": "2024-12-03T11:39:36.625Z"
   },
   {
    "duration": 3,
    "start_time": "2024-12-03T11:40:07.622Z"
   },
   {
    "duration": 16,
    "start_time": "2024-12-03T11:41:03.064Z"
   },
   {
    "duration": 18,
    "start_time": "2024-12-03T11:41:18.948Z"
   },
   {
    "duration": 92,
    "start_time": "2024-12-03T11:41:22.305Z"
   },
   {
    "duration": 881,
    "start_time": "2024-12-03T11:50:18.709Z"
   },
   {
    "duration": 16,
    "start_time": "2024-12-03T11:50:19.593Z"
   },
   {
    "duration": 36,
    "start_time": "2024-12-03T11:50:19.610Z"
   },
   {
    "duration": 30,
    "start_time": "2024-12-03T11:50:19.648Z"
   },
   {
    "duration": 3,
    "start_time": "2024-12-03T11:50:19.681Z"
   },
   {
    "duration": 6,
    "start_time": "2024-12-03T11:50:19.686Z"
   },
   {
    "duration": 9,
    "start_time": "2024-12-03T11:50:19.694Z"
   },
   {
    "duration": 11,
    "start_time": "2024-12-03T11:50:19.705Z"
   },
   {
    "duration": 3,
    "start_time": "2024-12-03T11:50:19.718Z"
   },
   {
    "duration": 5,
    "start_time": "2024-12-03T11:50:19.723Z"
   },
   {
    "duration": 45,
    "start_time": "2024-12-03T11:50:19.730Z"
   },
   {
    "duration": 3,
    "start_time": "2024-12-03T11:50:19.777Z"
   },
   {
    "duration": 5,
    "start_time": "2024-12-03T11:50:19.782Z"
   },
   {
    "duration": 3,
    "start_time": "2024-12-03T11:50:19.790Z"
   },
   {
    "duration": 167,
    "start_time": "2024-12-03T11:50:19.795Z"
   },
   {
    "duration": 21,
    "start_time": "2024-12-03T11:50:19.964Z"
   },
   {
    "duration": 10,
    "start_time": "2024-12-03T11:50:19.986Z"
   },
   {
    "duration": 106,
    "start_time": "2024-12-03T11:50:19.997Z"
   },
   {
    "duration": 23,
    "start_time": "2024-12-03T11:50:20.105Z"
   },
   {
    "duration": 43,
    "start_time": "2024-12-03T11:50:20.129Z"
   },
   {
    "duration": 15,
    "start_time": "2024-12-03T11:50:20.176Z"
   },
   {
    "duration": 8,
    "start_time": "2024-12-03T11:50:48.619Z"
   },
   {
    "duration": 843,
    "start_time": "2024-12-03T11:50:54.246Z"
   },
   {
    "duration": 15,
    "start_time": "2024-12-03T11:50:55.093Z"
   },
   {
    "duration": 36,
    "start_time": "2024-12-03T11:50:55.110Z"
   },
   {
    "duration": 32,
    "start_time": "2024-12-03T11:50:55.149Z"
   },
   {
    "duration": 3,
    "start_time": "2024-12-03T11:50:55.182Z"
   },
   {
    "duration": 5,
    "start_time": "2024-12-03T11:50:55.187Z"
   },
   {
    "duration": 8,
    "start_time": "2024-12-03T11:50:55.194Z"
   },
   {
    "duration": 13,
    "start_time": "2024-12-03T11:50:55.203Z"
   },
   {
    "duration": 3,
    "start_time": "2024-12-03T11:50:55.217Z"
   },
   {
    "duration": 4,
    "start_time": "2024-12-03T11:50:55.222Z"
   },
   {
    "duration": 44,
    "start_time": "2024-12-03T11:50:55.228Z"
   },
   {
    "duration": 4,
    "start_time": "2024-12-03T11:50:55.274Z"
   },
   {
    "duration": 4,
    "start_time": "2024-12-03T11:50:55.280Z"
   },
   {
    "duration": 3,
    "start_time": "2024-12-03T11:50:55.286Z"
   },
   {
    "duration": 166,
    "start_time": "2024-12-03T11:50:55.291Z"
   },
   {
    "duration": 23,
    "start_time": "2024-12-03T11:50:55.459Z"
   },
   {
    "duration": 9,
    "start_time": "2024-12-03T11:50:55.484Z"
   },
   {
    "duration": 101,
    "start_time": "2024-12-03T11:50:55.495Z"
   },
   {
    "duration": 20,
    "start_time": "2024-12-03T11:50:55.598Z"
   },
   {
    "duration": 6,
    "start_time": "2024-12-03T11:50:55.619Z"
   },
   {
    "duration": 52,
    "start_time": "2024-12-03T11:50:55.626Z"
   },
   {
    "duration": 12,
    "start_time": "2024-12-03T11:51:17.170Z"
   },
   {
    "duration": 839,
    "start_time": "2024-12-03T11:51:24.955Z"
   },
   {
    "duration": 16,
    "start_time": "2024-12-03T11:51:25.796Z"
   },
   {
    "duration": 36,
    "start_time": "2024-12-03T11:51:25.813Z"
   },
   {
    "duration": 33,
    "start_time": "2024-12-03T11:51:25.850Z"
   },
   {
    "duration": 4,
    "start_time": "2024-12-03T11:51:25.885Z"
   },
   {
    "duration": 8,
    "start_time": "2024-12-03T11:51:25.890Z"
   },
   {
    "duration": 10,
    "start_time": "2024-12-03T11:51:25.900Z"
   },
   {
    "duration": 11,
    "start_time": "2024-12-03T11:51:25.911Z"
   },
   {
    "duration": 4,
    "start_time": "2024-12-03T11:51:25.923Z"
   },
   {
    "duration": 4,
    "start_time": "2024-12-03T11:51:25.929Z"
   },
   {
    "duration": 41,
    "start_time": "2024-12-03T11:51:25.934Z"
   },
   {
    "duration": 4,
    "start_time": "2024-12-03T11:51:25.976Z"
   },
   {
    "duration": 4,
    "start_time": "2024-12-03T11:51:25.982Z"
   },
   {
    "duration": 3,
    "start_time": "2024-12-03T11:51:25.989Z"
   },
   {
    "duration": 116,
    "start_time": "2024-12-03T11:51:25.994Z"
   },
   {
    "duration": 17,
    "start_time": "2024-12-03T11:51:26.112Z"
   },
   {
    "duration": 73,
    "start_time": "2024-12-03T11:51:26.131Z"
   },
   {
    "duration": 91,
    "start_time": "2024-12-03T11:51:26.205Z"
   },
   {
    "duration": 20,
    "start_time": "2024-12-03T11:51:26.298Z"
   },
   {
    "duration": 53,
    "start_time": "2024-12-03T11:51:26.319Z"
   },
   {
    "duration": 14,
    "start_time": "2024-12-03T11:51:26.377Z"
   },
   {
    "duration": 10,
    "start_time": "2024-12-03T11:51:39.796Z"
   },
   {
    "duration": 881,
    "start_time": "2024-12-03T11:51:46.968Z"
   },
   {
    "duration": 19,
    "start_time": "2024-12-03T11:51:47.851Z"
   },
   {
    "duration": 39,
    "start_time": "2024-12-03T11:51:47.872Z"
   },
   {
    "duration": 15,
    "start_time": "2024-12-03T11:51:47.914Z"
   },
   {
    "duration": 3,
    "start_time": "2024-12-03T11:51:47.930Z"
   },
   {
    "duration": 6,
    "start_time": "2024-12-03T11:51:47.935Z"
   },
   {
    "duration": 10,
    "start_time": "2024-12-03T11:51:47.969Z"
   },
   {
    "duration": 12,
    "start_time": "2024-12-03T11:51:47.980Z"
   },
   {
    "duration": 3,
    "start_time": "2024-12-03T11:51:47.993Z"
   },
   {
    "duration": 4,
    "start_time": "2024-12-03T11:51:47.999Z"
   },
   {
    "duration": 7,
    "start_time": "2024-12-03T11:51:48.004Z"
   },
   {
    "duration": 4,
    "start_time": "2024-12-03T11:51:48.012Z"
   },
   {
    "duration": 5,
    "start_time": "2024-12-03T11:51:48.018Z"
   },
   {
    "duration": 3,
    "start_time": "2024-12-03T11:51:48.025Z"
   },
   {
    "duration": 149,
    "start_time": "2024-12-03T11:51:48.070Z"
   },
   {
    "duration": 18,
    "start_time": "2024-12-03T11:51:48.221Z"
   },
   {
    "duration": 11,
    "start_time": "2024-12-03T11:51:48.240Z"
   },
   {
    "duration": 105,
    "start_time": "2024-12-03T11:51:48.252Z"
   },
   {
    "duration": 31,
    "start_time": "2024-12-03T11:51:48.359Z"
   },
   {
    "duration": 8,
    "start_time": "2024-12-03T11:51:48.391Z"
   },
   {
    "duration": 70,
    "start_time": "2024-12-03T11:51:48.401Z"
   },
   {
    "duration": 990,
    "start_time": "2024-12-03T11:52:51.534Z"
   },
   {
    "duration": 16,
    "start_time": "2024-12-03T11:52:52.526Z"
   },
   {
    "duration": 48,
    "start_time": "2024-12-03T11:52:52.544Z"
   },
   {
    "duration": 16,
    "start_time": "2024-12-03T11:52:52.594Z"
   },
   {
    "duration": 2,
    "start_time": "2024-12-03T11:52:52.612Z"
   },
   {
    "duration": 6,
    "start_time": "2024-12-03T11:52:52.616Z"
   },
   {
    "duration": 9,
    "start_time": "2024-12-03T11:52:52.624Z"
   },
   {
    "duration": 40,
    "start_time": "2024-12-03T11:52:52.634Z"
   },
   {
    "duration": 3,
    "start_time": "2024-12-03T11:52:52.676Z"
   },
   {
    "duration": 4,
    "start_time": "2024-12-03T11:52:52.683Z"
   },
   {
    "duration": 7,
    "start_time": "2024-12-03T11:52:52.688Z"
   },
   {
    "duration": 4,
    "start_time": "2024-12-03T11:52:52.697Z"
   },
   {
    "duration": 4,
    "start_time": "2024-12-03T11:52:52.702Z"
   },
   {
    "duration": 4,
    "start_time": "2024-12-03T11:52:52.708Z"
   },
   {
    "duration": 183,
    "start_time": "2024-12-03T11:52:52.714Z"
   },
   {
    "duration": 11,
    "start_time": "2024-12-03T11:52:52.898Z"
   },
   {
    "duration": 101,
    "start_time": "2024-12-03T11:52:52.910Z"
   },
   {
    "duration": 17,
    "start_time": "2024-12-03T11:52:53.013Z"
   },
   {
    "duration": 46,
    "start_time": "2024-12-03T11:52:53.032Z"
   },
   {
    "duration": 8,
    "start_time": "2024-12-03T11:52:53.079Z"
   },
   {
    "duration": 82,
    "start_time": "2024-12-03T11:52:53.089Z"
   },
   {
    "duration": 866,
    "start_time": "2024-12-03T11:54:14.424Z"
   },
   {
    "duration": 15,
    "start_time": "2024-12-03T11:54:15.293Z"
   },
   {
    "duration": 37,
    "start_time": "2024-12-03T11:54:15.310Z"
   },
   {
    "duration": 31,
    "start_time": "2024-12-03T11:54:15.349Z"
   },
   {
    "duration": 3,
    "start_time": "2024-12-03T11:54:15.382Z"
   },
   {
    "duration": 6,
    "start_time": "2024-12-03T11:54:15.387Z"
   },
   {
    "duration": 9,
    "start_time": "2024-12-03T11:54:15.394Z"
   },
   {
    "duration": 12,
    "start_time": "2024-12-03T11:54:15.405Z"
   },
   {
    "duration": 4,
    "start_time": "2024-12-03T11:54:15.418Z"
   },
   {
    "duration": 4,
    "start_time": "2024-12-03T11:54:15.425Z"
   },
   {
    "duration": 43,
    "start_time": "2024-12-03T11:54:15.430Z"
   },
   {
    "duration": 4,
    "start_time": "2024-12-03T11:54:15.475Z"
   },
   {
    "duration": 5,
    "start_time": "2024-12-03T11:54:15.480Z"
   },
   {
    "duration": 3,
    "start_time": "2024-12-03T11:54:15.487Z"
   },
   {
    "duration": 166,
    "start_time": "2024-12-03T11:54:15.492Z"
   },
   {
    "duration": 18,
    "start_time": "2024-12-03T11:54:15.661Z"
   },
   {
    "duration": 98,
    "start_time": "2024-12-03T11:54:15.680Z"
   },
   {
    "duration": 19,
    "start_time": "2024-12-03T11:54:15.780Z"
   },
   {
    "duration": 35,
    "start_time": "2024-12-03T11:54:15.801Z"
   },
   {
    "duration": 38,
    "start_time": "2024-12-03T11:54:15.837Z"
   },
   {
    "duration": 13,
    "start_time": "2024-12-03T11:54:15.880Z"
   },
   {
    "duration": 856,
    "start_time": "2024-12-03T11:56:49.165Z"
   },
   {
    "duration": 16,
    "start_time": "2024-12-03T11:56:50.023Z"
   },
   {
    "duration": 40,
    "start_time": "2024-12-03T11:56:50.040Z"
   },
   {
    "duration": 16,
    "start_time": "2024-12-03T11:56:50.081Z"
   },
   {
    "duration": 2,
    "start_time": "2024-12-03T11:56:50.100Z"
   },
   {
    "duration": 5,
    "start_time": "2024-12-03T11:56:50.104Z"
   },
   {
    "duration": 9,
    "start_time": "2024-12-03T11:56:50.111Z"
   },
   {
    "duration": 11,
    "start_time": "2024-12-03T11:56:50.121Z"
   },
   {
    "duration": 37,
    "start_time": "2024-12-03T11:56:50.134Z"
   },
   {
    "duration": 4,
    "start_time": "2024-12-03T11:56:50.173Z"
   },
   {
    "duration": 7,
    "start_time": "2024-12-03T11:56:50.179Z"
   },
   {
    "duration": 5,
    "start_time": "2024-12-03T11:56:50.188Z"
   },
   {
    "duration": 5,
    "start_time": "2024-12-03T11:56:50.195Z"
   },
   {
    "duration": 18,
    "start_time": "2024-12-03T11:56:50.202Z"
   },
   {
    "duration": 4,
    "start_time": "2024-12-03T11:56:50.222Z"
   },
   {
    "duration": 177,
    "start_time": "2024-12-03T11:56:50.227Z"
   },
   {
    "duration": 10,
    "start_time": "2024-12-03T11:56:50.405Z"
   },
   {
    "duration": 101,
    "start_time": "2024-12-03T11:56:50.417Z"
   },
   {
    "duration": 20,
    "start_time": "2024-12-03T11:56:50.520Z"
   },
   {
    "duration": 33,
    "start_time": "2024-12-03T11:56:50.541Z"
   },
   {
    "duration": 95,
    "start_time": "2024-12-03T11:56:50.576Z"
   },
   {
    "duration": 18,
    "start_time": "2024-12-03T13:11:47.128Z"
   },
   {
    "duration": 7,
    "start_time": "2024-12-03T13:11:51.500Z"
   },
   {
    "duration": 13,
    "start_time": "2024-12-03T13:11:51.509Z"
   },
   {
    "duration": 17,
    "start_time": "2024-12-03T13:13:36.809Z"
   },
   {
    "duration": 840,
    "start_time": "2024-12-03T13:13:47.142Z"
   },
   {
    "duration": 15,
    "start_time": "2024-12-03T13:13:47.985Z"
   },
   {
    "duration": 36,
    "start_time": "2024-12-03T13:13:48.002Z"
   },
   {
    "duration": 15,
    "start_time": "2024-12-03T13:13:48.040Z"
   },
   {
    "duration": 15,
    "start_time": "2024-12-03T13:13:48.056Z"
   },
   {
    "duration": 6,
    "start_time": "2024-12-03T13:13:48.073Z"
   },
   {
    "duration": 10,
    "start_time": "2024-12-03T13:13:48.080Z"
   },
   {
    "duration": 11,
    "start_time": "2024-12-03T13:13:48.091Z"
   },
   {
    "duration": 3,
    "start_time": "2024-12-03T13:13:48.103Z"
   },
   {
    "duration": 4,
    "start_time": "2024-12-03T13:13:48.110Z"
   },
   {
    "duration": 8,
    "start_time": "2024-12-03T13:13:48.115Z"
   },
   {
    "duration": 4,
    "start_time": "2024-12-03T13:13:48.124Z"
   },
   {
    "duration": 5,
    "start_time": "2024-12-03T13:13:48.171Z"
   },
   {
    "duration": 17,
    "start_time": "2024-12-03T13:13:48.178Z"
   },
   {
    "duration": 4,
    "start_time": "2024-12-03T13:13:48.197Z"
   },
   {
    "duration": 165,
    "start_time": "2024-12-03T13:13:48.203Z"
   },
   {
    "duration": 10,
    "start_time": "2024-12-03T13:13:48.371Z"
   },
   {
    "duration": 95,
    "start_time": "2024-12-03T13:13:48.382Z"
   },
   {
    "duration": 20,
    "start_time": "2024-12-03T13:13:48.478Z"
   },
   {
    "duration": 6,
    "start_time": "2024-12-03T13:13:48.500Z"
   },
   {
    "duration": 67,
    "start_time": "2024-12-03T13:13:48.508Z"
   },
   {
    "duration": 9,
    "start_time": "2024-12-03T13:19:29.418Z"
   },
   {
    "duration": 8,
    "start_time": "2024-12-03T13:19:33.883Z"
   },
   {
    "duration": 87,
    "start_time": "2024-12-03T13:19:33.893Z"
   },
   {
    "duration": 20,
    "start_time": "2024-12-03T13:19:33.982Z"
   },
   {
    "duration": 7,
    "start_time": "2024-12-03T13:19:34.004Z"
   },
   {
    "duration": 69,
    "start_time": "2024-12-03T13:19:34.012Z"
   },
   {
    "duration": 10,
    "start_time": "2024-12-03T13:20:06.189Z"
   },
   {
    "duration": 10,
    "start_time": "2024-12-03T13:20:10.474Z"
   },
   {
    "duration": 91,
    "start_time": "2024-12-03T13:20:10.486Z"
   },
   {
    "duration": 19,
    "start_time": "2024-12-03T13:20:10.579Z"
   },
   {
    "duration": 8,
    "start_time": "2024-12-03T13:20:10.599Z"
   },
   {
    "duration": 69,
    "start_time": "2024-12-03T13:20:10.610Z"
   },
   {
    "duration": 10,
    "start_time": "2024-12-03T13:22:14.369Z"
   },
   {
    "duration": 835,
    "start_time": "2024-12-03T13:22:20.259Z"
   },
   {
    "duration": 15,
    "start_time": "2024-12-03T13:22:21.096Z"
   },
   {
    "duration": 36,
    "start_time": "2024-12-03T13:22:21.113Z"
   },
   {
    "duration": 31,
    "start_time": "2024-12-03T13:22:21.152Z"
   },
   {
    "duration": 2,
    "start_time": "2024-12-03T13:22:21.185Z"
   },
   {
    "duration": 6,
    "start_time": "2024-12-03T13:22:21.189Z"
   },
   {
    "duration": 10,
    "start_time": "2024-12-03T13:22:21.196Z"
   },
   {
    "duration": 12,
    "start_time": "2024-12-03T13:22:21.207Z"
   },
   {
    "duration": 4,
    "start_time": "2024-12-03T13:22:21.220Z"
   },
   {
    "duration": 5,
    "start_time": "2024-12-03T13:22:21.228Z"
   },
   {
    "duration": 8,
    "start_time": "2024-12-03T13:22:21.270Z"
   },
   {
    "duration": 4,
    "start_time": "2024-12-03T13:22:21.279Z"
   },
   {
    "duration": 6,
    "start_time": "2024-12-03T13:22:21.285Z"
   },
   {
    "duration": 16,
    "start_time": "2024-12-03T13:22:21.293Z"
   },
   {
    "duration": 3,
    "start_time": "2024-12-03T13:22:21.311Z"
   },
   {
    "duration": 173,
    "start_time": "2024-12-03T13:22:21.316Z"
   },
   {
    "duration": 3,
    "start_time": "2024-12-03T13:22:21.491Z"
   },
   {
    "duration": 13,
    "start_time": "2024-12-03T13:22:21.496Z"
   },
   {
    "duration": 259,
    "start_time": "2024-12-03T13:22:21.511Z"
   },
   {
    "duration": 0,
    "start_time": "2024-12-03T13:22:21.772Z"
   },
   {
    "duration": 0,
    "start_time": "2024-12-03T13:22:21.773Z"
   },
   {
    "duration": 0,
    "start_time": "2024-12-03T13:22:21.774Z"
   },
   {
    "duration": 91,
    "start_time": "2024-12-03T13:22:42.308Z"
   },
   {
    "duration": 90,
    "start_time": "2024-12-03T13:23:00.258Z"
   },
   {
    "duration": 21,
    "start_time": "2024-12-03T13:23:00.350Z"
   },
   {
    "duration": 0,
    "start_time": "2024-12-03T13:23:00.372Z"
   },
   {
    "duration": 0,
    "start_time": "2024-12-03T13:23:00.373Z"
   },
   {
    "duration": 13,
    "start_time": "2024-12-03T13:23:11.641Z"
   },
   {
    "duration": 11,
    "start_time": "2024-12-03T13:23:17.759Z"
   },
   {
    "duration": 8,
    "start_time": "2024-12-03T13:23:22.260Z"
   },
   {
    "duration": 10,
    "start_time": "2024-12-03T13:23:24.858Z"
   },
   {
    "duration": 9,
    "start_time": "2024-12-03T13:23:38.170Z"
   },
   {
    "duration": 9,
    "start_time": "2024-12-03T13:23:40.066Z"
   },
   {
    "duration": 9,
    "start_time": "2024-12-03T13:23:46.077Z"
   },
   {
    "duration": 92,
    "start_time": "2024-12-03T13:23:46.088Z"
   },
   {
    "duration": 12,
    "start_time": "2024-12-03T13:23:46.182Z"
   },
   {
    "duration": 6,
    "start_time": "2024-12-03T13:23:46.198Z"
   },
   {
    "duration": 75,
    "start_time": "2024-12-03T13:23:46.207Z"
   },
   {
    "duration": 24,
    "start_time": "2024-12-03T13:24:06.197Z"
   },
   {
    "duration": 0,
    "start_time": "2024-12-03T13:24:06.223Z"
   },
   {
    "duration": 0,
    "start_time": "2024-12-03T13:24:06.224Z"
   },
   {
    "duration": 0,
    "start_time": "2024-12-03T13:24:06.225Z"
   },
   {
    "duration": 0,
    "start_time": "2024-12-03T13:24:06.226Z"
   },
   {
    "duration": 10,
    "start_time": "2024-12-03T13:24:25.410Z"
   },
   {
    "duration": 87,
    "start_time": "2024-12-03T13:24:31.424Z"
   },
   {
    "duration": 17,
    "start_time": "2024-12-03T13:24:31.513Z"
   },
   {
    "duration": 39,
    "start_time": "2024-12-03T13:24:31.531Z"
   },
   {
    "duration": 13,
    "start_time": "2024-12-03T13:24:31.572Z"
   },
   {
    "duration": 854,
    "start_time": "2024-12-03T13:25:06.461Z"
   },
   {
    "duration": 16,
    "start_time": "2024-12-03T13:25:07.318Z"
   },
   {
    "duration": 44,
    "start_time": "2024-12-03T13:25:07.336Z"
   },
   {
    "duration": 16,
    "start_time": "2024-12-03T13:25:07.383Z"
   },
   {
    "duration": 3,
    "start_time": "2024-12-03T13:25:07.401Z"
   },
   {
    "duration": 6,
    "start_time": "2024-12-03T13:25:07.405Z"
   },
   {
    "duration": 9,
    "start_time": "2024-12-03T13:25:07.413Z"
   },
   {
    "duration": 10,
    "start_time": "2024-12-03T13:25:07.424Z"
   },
   {
    "duration": 35,
    "start_time": "2024-12-03T13:25:07.436Z"
   },
   {
    "duration": 4,
    "start_time": "2024-12-03T13:25:07.474Z"
   },
   {
    "duration": 7,
    "start_time": "2024-12-03T13:25:07.480Z"
   },
   {
    "duration": 4,
    "start_time": "2024-12-03T13:25:07.489Z"
   },
   {
    "duration": 5,
    "start_time": "2024-12-03T13:25:07.494Z"
   },
   {
    "duration": 18,
    "start_time": "2024-12-03T13:25:07.500Z"
   },
   {
    "duration": 3,
    "start_time": "2024-12-03T13:25:07.520Z"
   },
   {
    "duration": 173,
    "start_time": "2024-12-03T13:25:07.525Z"
   },
   {
    "duration": 3,
    "start_time": "2024-12-03T13:25:07.699Z"
   },
   {
    "duration": 10,
    "start_time": "2024-12-03T13:25:07.704Z"
   },
   {
    "duration": 107,
    "start_time": "2024-12-03T13:25:07.715Z"
   },
   {
    "duration": 9,
    "start_time": "2024-12-03T13:25:07.824Z"
   },
   {
    "duration": 35,
    "start_time": "2024-12-03T13:25:07.839Z"
   },
   {
    "duration": 12,
    "start_time": "2024-12-03T13:25:07.876Z"
   },
   {
    "duration": 922,
    "start_time": "2024-12-03T13:25:26.671Z"
   },
   {
    "duration": 15,
    "start_time": "2024-12-03T13:25:27.595Z"
   },
   {
    "duration": 36,
    "start_time": "2024-12-03T13:25:27.611Z"
   },
   {
    "duration": 31,
    "start_time": "2024-12-03T13:25:27.649Z"
   },
   {
    "duration": 2,
    "start_time": "2024-12-03T13:25:27.684Z"
   },
   {
    "duration": 7,
    "start_time": "2024-12-03T13:25:27.688Z"
   },
   {
    "duration": 9,
    "start_time": "2024-12-03T13:25:27.696Z"
   },
   {
    "duration": 10,
    "start_time": "2024-12-03T13:25:27.707Z"
   },
   {
    "duration": 11,
    "start_time": "2024-12-03T13:25:27.719Z"
   },
   {
    "duration": 5,
    "start_time": "2024-12-03T13:25:27.732Z"
   },
   {
    "duration": 32,
    "start_time": "2024-12-03T13:25:27.739Z"
   },
   {
    "duration": 5,
    "start_time": "2024-12-03T13:25:27.773Z"
   },
   {
    "duration": 5,
    "start_time": "2024-12-03T13:25:27.779Z"
   },
   {
    "duration": 17,
    "start_time": "2024-12-03T13:25:27.787Z"
   },
   {
    "duration": 4,
    "start_time": "2024-12-03T13:25:27.805Z"
   },
   {
    "duration": 162,
    "start_time": "2024-12-03T13:25:27.810Z"
   },
   {
    "duration": 3,
    "start_time": "2024-12-03T13:25:27.974Z"
   },
   {
    "duration": 9,
    "start_time": "2024-12-03T13:25:27.979Z"
   },
   {
    "duration": 109,
    "start_time": "2024-12-03T13:25:27.990Z"
   },
   {
    "duration": 13,
    "start_time": "2024-12-03T13:25:28.101Z"
   },
   {
    "duration": 5,
    "start_time": "2024-12-03T13:25:28.115Z"
   },
   {
    "duration": 12,
    "start_time": "2024-12-03T13:25:28.170Z"
   },
   {
    "duration": 9,
    "start_time": "2024-12-03T13:25:41.998Z"
   },
   {
    "duration": 82,
    "start_time": "2024-12-03T13:25:42.009Z"
   },
   {
    "duration": 10,
    "start_time": "2024-12-03T13:25:42.093Z"
   },
   {
    "duration": 6,
    "start_time": "2024-12-03T13:25:42.105Z"
   },
   {
    "duration": 68,
    "start_time": "2024-12-03T13:25:42.113Z"
   },
   {
    "duration": 9,
    "start_time": "2024-12-03T13:25:55.764Z"
   },
   {
    "duration": 86,
    "start_time": "2024-12-03T13:25:58.349Z"
   },
   {
    "duration": 9,
    "start_time": "2024-12-03T13:26:03.573Z"
   },
   {
    "duration": 84,
    "start_time": "2024-12-03T13:26:05.749Z"
   },
   {
    "duration": 9,
    "start_time": "2024-12-03T13:26:14.401Z"
   },
   {
    "duration": 85,
    "start_time": "2024-12-03T13:26:16.894Z"
   },
   {
    "duration": 10,
    "start_time": "2024-12-03T13:26:26.697Z"
   },
   {
    "duration": 82,
    "start_time": "2024-12-03T13:26:29.879Z"
   },
   {
    "duration": 10,
    "start_time": "2024-12-03T13:26:36.827Z"
   },
   {
    "duration": 84,
    "start_time": "2024-12-03T13:26:40.173Z"
   },
   {
    "duration": 10,
    "start_time": "2024-12-03T13:26:47.533Z"
   },
   {
    "duration": 84,
    "start_time": "2024-12-03T13:26:50.938Z"
   },
   {
    "duration": 10,
    "start_time": "2024-12-03T13:27:00.759Z"
   },
   {
    "duration": 92,
    "start_time": "2024-12-03T13:27:04.003Z"
   },
   {
    "duration": 9,
    "start_time": "2024-12-03T13:27:12.200Z"
   },
   {
    "duration": 86,
    "start_time": "2024-12-03T13:27:14.630Z"
   },
   {
    "duration": 9,
    "start_time": "2024-12-03T13:27:24.364Z"
   },
   {
    "duration": 91,
    "start_time": "2024-12-03T13:27:26.607Z"
   },
   {
    "duration": 87,
    "start_time": "2024-12-03T13:27:41.233Z"
   },
   {
    "duration": 47,
    "start_time": "2024-12-03T13:27:41.322Z"
   },
   {
    "duration": 15,
    "start_time": "2024-12-03T13:27:41.371Z"
   },
   {
    "duration": 85,
    "start_time": "2024-12-03T13:27:41.388Z"
   },
   {
    "duration": 9,
    "start_time": "2024-12-03T13:27:54.505Z"
   },
   {
    "duration": 10,
    "start_time": "2024-12-03T13:27:58.215Z"
   },
   {
    "duration": 79,
    "start_time": "2024-12-03T13:27:58.227Z"
   },
   {
    "duration": 12,
    "start_time": "2024-12-03T13:27:58.308Z"
   },
   {
    "duration": 47,
    "start_time": "2024-12-03T13:27:58.323Z"
   },
   {
    "duration": 13,
    "start_time": "2024-12-03T13:27:58.372Z"
   },
   {
    "duration": 9,
    "start_time": "2024-12-03T13:28:12.476Z"
   },
   {
    "duration": 9,
    "start_time": "2024-12-03T13:28:21.728Z"
   },
   {
    "duration": 91,
    "start_time": "2024-12-03T13:28:21.740Z"
   },
   {
    "duration": 14,
    "start_time": "2024-12-03T13:28:21.832Z"
   },
   {
    "duration": 27,
    "start_time": "2024-12-03T13:28:21.847Z"
   },
   {
    "duration": 12,
    "start_time": "2024-12-03T13:28:21.876Z"
   },
   {
    "duration": 10,
    "start_time": "2024-12-03T13:28:39.791Z"
   },
   {
    "duration": 92,
    "start_time": "2024-12-03T13:28:42.402Z"
   },
   {
    "duration": 14,
    "start_time": "2024-12-03T13:28:43.928Z"
   },
   {
    "duration": 7,
    "start_time": "2024-12-03T13:28:45.210Z"
   },
   {
    "duration": 10,
    "start_time": "2024-12-03T13:28:47.716Z"
   },
   {
    "duration": 9,
    "start_time": "2024-12-03T13:29:02.376Z"
   },
   {
    "duration": 89,
    "start_time": "2024-12-03T13:29:02.487Z"
   },
   {
    "duration": 14,
    "start_time": "2024-12-03T13:29:02.761Z"
   },
   {
    "duration": 7,
    "start_time": "2024-12-03T13:29:03.009Z"
   },
   {
    "duration": 10,
    "start_time": "2024-12-03T13:29:03.171Z"
   },
   {
    "duration": 10,
    "start_time": "2024-12-03T13:29:25.641Z"
   },
   {
    "duration": 159,
    "start_time": "2024-12-03T13:29:25.789Z"
   },
   {
    "duration": 11,
    "start_time": "2024-12-03T13:29:26.127Z"
   },
   {
    "duration": 7,
    "start_time": "2024-12-03T13:29:27.453Z"
   },
   {
    "duration": 11,
    "start_time": "2024-12-03T13:29:27.886Z"
   },
   {
    "duration": 10,
    "start_time": "2024-12-03T13:29:39.512Z"
   },
   {
    "duration": 88,
    "start_time": "2024-12-03T13:29:39.750Z"
   },
   {
    "duration": 13,
    "start_time": "2024-12-03T13:29:40.129Z"
   },
   {
    "duration": 160,
    "start_time": "2024-12-03T15:11:34.317Z"
   },
   {
    "duration": 2694,
    "start_time": "2024-12-03T15:11:40.577Z"
   },
   {
    "duration": 30,
    "start_time": "2024-12-03T15:11:43.273Z"
   },
   {
    "duration": 38,
    "start_time": "2024-12-03T15:11:43.305Z"
   },
   {
    "duration": 16,
    "start_time": "2024-12-03T15:11:43.346Z"
   },
   {
    "duration": 3,
    "start_time": "2024-12-03T15:11:43.364Z"
   },
   {
    "duration": 6,
    "start_time": "2024-12-03T15:11:43.369Z"
   },
   {
    "duration": 10,
    "start_time": "2024-12-03T15:11:43.377Z"
   },
   {
    "duration": 40,
    "start_time": "2024-12-03T15:11:43.388Z"
   },
   {
    "duration": 4,
    "start_time": "2024-12-03T15:11:43.430Z"
   },
   {
    "duration": 5,
    "start_time": "2024-12-03T15:11:43.437Z"
   },
   {
    "duration": 8,
    "start_time": "2024-12-03T15:11:43.443Z"
   },
   {
    "duration": 6,
    "start_time": "2024-12-03T15:11:43.452Z"
   },
   {
    "duration": 6,
    "start_time": "2024-12-03T15:11:43.460Z"
   },
   {
    "duration": 18,
    "start_time": "2024-12-03T15:11:43.467Z"
   },
   {
    "duration": 4,
    "start_time": "2024-12-03T15:11:43.524Z"
   },
   {
    "duration": 109,
    "start_time": "2024-12-03T15:11:43.530Z"
   },
   {
    "duration": 2,
    "start_time": "2024-12-03T15:11:43.642Z"
   },
   {
    "duration": 11,
    "start_time": "2024-12-03T15:11:43.646Z"
   },
   {
    "duration": 121,
    "start_time": "2024-12-03T15:11:43.659Z"
   },
   {
    "duration": 10,
    "start_time": "2024-12-03T15:11:43.782Z"
   },
   {
    "duration": 32,
    "start_time": "2024-12-03T15:11:43.794Z"
   },
   {
    "duration": 6,
    "start_time": "2024-12-03T15:11:43.828Z"
   },
   {
    "duration": 90,
    "start_time": "2024-12-03T15:11:43.836Z"
   },
   {
    "duration": 176,
    "start_time": "2024-12-03T16:23:52.738Z"
   },
   {
    "duration": 2699,
    "start_time": "2024-12-03T16:24:07.915Z"
   },
   {
    "duration": 27,
    "start_time": "2024-12-03T16:24:10.616Z"
   },
   {
    "duration": 38,
    "start_time": "2024-12-03T16:24:10.645Z"
   },
   {
    "duration": 16,
    "start_time": "2024-12-03T16:24:10.685Z"
   },
   {
    "duration": 3,
    "start_time": "2024-12-03T16:24:10.703Z"
   },
   {
    "duration": 6,
    "start_time": "2024-12-03T16:24:10.707Z"
   },
   {
    "duration": 39,
    "start_time": "2024-12-03T16:24:10.714Z"
   },
   {
    "duration": 12,
    "start_time": "2024-12-03T16:24:10.758Z"
   },
   {
    "duration": 2,
    "start_time": "2024-12-03T16:24:10.772Z"
   },
   {
    "duration": 4,
    "start_time": "2024-12-03T16:24:10.778Z"
   },
   {
    "duration": 7,
    "start_time": "2024-12-03T16:24:10.783Z"
   },
   {
    "duration": 3,
    "start_time": "2024-12-03T16:24:10.793Z"
   },
   {
    "duration": 4,
    "start_time": "2024-12-03T16:24:10.799Z"
   },
   {
    "duration": 51,
    "start_time": "2024-12-03T16:24:10.805Z"
   },
   {
    "duration": 3,
    "start_time": "2024-12-03T16:24:10.859Z"
   },
   {
    "duration": 113,
    "start_time": "2024-12-03T16:24:10.864Z"
   },
   {
    "duration": 11,
    "start_time": "2024-12-03T16:24:10.978Z"
   },
   {
    "duration": 107,
    "start_time": "2024-12-03T16:24:10.990Z"
   },
   {
    "duration": 10,
    "start_time": "2024-12-03T16:24:11.099Z"
   },
   {
    "duration": 37,
    "start_time": "2024-12-03T16:24:11.111Z"
   },
   {
    "duration": 5,
    "start_time": "2024-12-03T16:24:11.149Z"
   },
   {
    "duration": 12,
    "start_time": "2024-12-03T16:24:11.155Z"
   },
   {
    "duration": 3,
    "start_time": "2024-12-03T16:41:21.091Z"
   },
   {
    "duration": 18,
    "start_time": "2024-12-03T16:41:21.096Z"
   },
   {
    "duration": 37,
    "start_time": "2024-12-03T16:41:21.115Z"
   },
   {
    "duration": 21,
    "start_time": "2024-12-03T16:41:21.154Z"
   },
   {
    "duration": 3,
    "start_time": "2024-12-03T16:41:21.178Z"
   },
   {
    "duration": 7,
    "start_time": "2024-12-03T16:41:21.182Z"
   },
   {
    "duration": 9,
    "start_time": "2024-12-03T16:41:21.191Z"
   },
   {
    "duration": 11,
    "start_time": "2024-12-03T16:41:21.202Z"
   },
   {
    "duration": 30,
    "start_time": "2024-12-03T16:41:21.214Z"
   },
   {
    "duration": 5,
    "start_time": "2024-12-03T16:41:21.245Z"
   },
   {
    "duration": 8,
    "start_time": "2024-12-03T16:41:21.251Z"
   },
   {
    "duration": 4,
    "start_time": "2024-12-03T16:41:21.261Z"
   },
   {
    "duration": 4,
    "start_time": "2024-12-03T16:41:21.268Z"
   },
   {
    "duration": 18,
    "start_time": "2024-12-03T16:41:21.275Z"
   },
   {
    "duration": 3,
    "start_time": "2024-12-03T16:41:21.294Z"
   },
   {
    "duration": 9,
    "start_time": "2024-12-03T16:41:28.768Z"
   },
   {
    "duration": 91,
    "start_time": "2024-12-03T16:41:31.834Z"
   },
   {
    "duration": 888,
    "start_time": "2024-12-03T16:41:44.188Z"
   },
   {
    "duration": 15,
    "start_time": "2024-12-03T16:41:45.079Z"
   },
   {
    "duration": 37,
    "start_time": "2024-12-03T16:41:45.096Z"
   },
   {
    "duration": 16,
    "start_time": "2024-12-03T16:41:45.142Z"
   },
   {
    "duration": 3,
    "start_time": "2024-12-03T16:41:45.160Z"
   },
   {
    "duration": 9,
    "start_time": "2024-12-03T16:41:45.165Z"
   },
   {
    "duration": 11,
    "start_time": "2024-12-03T16:41:45.178Z"
   },
   {
    "duration": 12,
    "start_time": "2024-12-03T16:41:45.191Z"
   },
   {
    "duration": 3,
    "start_time": "2024-12-03T16:41:45.205Z"
   },
   {
    "duration": 33,
    "start_time": "2024-12-03T16:41:45.210Z"
   },
   {
    "duration": 7,
    "start_time": "2024-12-03T16:41:45.244Z"
   },
   {
    "duration": 4,
    "start_time": "2024-12-03T16:41:45.252Z"
   },
   {
    "duration": 5,
    "start_time": "2024-12-03T16:41:45.259Z"
   },
   {
    "duration": 17,
    "start_time": "2024-12-03T16:41:45.267Z"
   },
   {
    "duration": 4,
    "start_time": "2024-12-03T16:41:45.286Z"
   },
   {
    "duration": 10,
    "start_time": "2024-12-03T16:41:45.291Z"
   },
   {
    "duration": 191,
    "start_time": "2024-12-03T16:41:45.303Z"
   },
   {
    "duration": 96,
    "start_time": "2024-12-03T16:41:45.496Z"
   },
   {
    "duration": 9,
    "start_time": "2024-12-03T16:41:45.594Z"
   },
   {
    "duration": 107,
    "start_time": "2024-12-03T16:41:45.604Z"
   },
   {
    "duration": 29,
    "start_time": "2024-12-03T16:41:45.713Z"
   },
   {
    "duration": 6,
    "start_time": "2024-12-03T16:41:45.747Z"
   },
   {
    "duration": 6,
    "start_time": "2024-12-03T16:41:45.757Z"
   },
   {
    "duration": 87,
    "start_time": "2024-12-03T16:41:45.766Z"
   },
   {
    "duration": 861,
    "start_time": "2024-12-03T16:42:13.310Z"
   },
   {
    "duration": 15,
    "start_time": "2024-12-03T16:42:14.173Z"
   },
   {
    "duration": 36,
    "start_time": "2024-12-03T16:42:14.189Z"
   },
   {
    "duration": 30,
    "start_time": "2024-12-03T16:42:14.227Z"
   },
   {
    "duration": 4,
    "start_time": "2024-12-03T16:42:14.260Z"
   },
   {
    "duration": 7,
    "start_time": "2024-12-03T16:42:14.265Z"
   },
   {
    "duration": 10,
    "start_time": "2024-12-03T16:42:14.274Z"
   },
   {
    "duration": 11,
    "start_time": "2024-12-03T16:42:14.286Z"
   },
   {
    "duration": 3,
    "start_time": "2024-12-03T16:42:14.299Z"
   },
   {
    "duration": 40,
    "start_time": "2024-12-03T16:42:14.304Z"
   },
   {
    "duration": 8,
    "start_time": "2024-12-03T16:42:14.345Z"
   },
   {
    "duration": 4,
    "start_time": "2024-12-03T16:42:14.355Z"
   },
   {
    "duration": 4,
    "start_time": "2024-12-03T16:42:14.362Z"
   },
   {
    "duration": 19,
    "start_time": "2024-12-03T16:42:14.370Z"
   },
   {
    "duration": 4,
    "start_time": "2024-12-03T16:42:14.390Z"
   },
   {
    "duration": 10,
    "start_time": "2024-12-03T16:42:14.397Z"
   },
   {
    "duration": 162,
    "start_time": "2024-12-03T16:42:14.444Z"
   },
   {
    "duration": 100,
    "start_time": "2024-12-03T16:42:14.608Z"
   },
   {
    "duration": 32,
    "start_time": "2024-12-03T16:42:14.711Z"
   },
   {
    "duration": 102,
    "start_time": "2024-12-03T16:42:14.744Z"
   },
   {
    "duration": 15,
    "start_time": "2024-12-03T16:42:14.848Z"
   },
   {
    "duration": 7,
    "start_time": "2024-12-03T16:42:14.864Z"
   },
   {
    "duration": 5,
    "start_time": "2024-12-03T16:42:14.872Z"
   },
   {
    "duration": 76,
    "start_time": "2024-12-03T16:42:14.879Z"
   },
   {
    "duration": 857,
    "start_time": "2024-12-03T16:43:25.817Z"
   },
   {
    "duration": 16,
    "start_time": "2024-12-03T16:43:26.676Z"
   },
   {
    "duration": 37,
    "start_time": "2024-12-03T16:43:26.693Z"
   },
   {
    "duration": 16,
    "start_time": "2024-12-03T16:43:26.743Z"
   },
   {
    "duration": 3,
    "start_time": "2024-12-03T16:43:26.761Z"
   },
   {
    "duration": 6,
    "start_time": "2024-12-03T16:43:26.765Z"
   },
   {
    "duration": 10,
    "start_time": "2024-12-03T16:43:26.772Z"
   },
   {
    "duration": 11,
    "start_time": "2024-12-03T16:43:26.784Z"
   },
   {
    "duration": 4,
    "start_time": "2024-12-03T16:43:26.796Z"
   },
   {
    "duration": 41,
    "start_time": "2024-12-03T16:43:26.804Z"
   },
   {
    "duration": 7,
    "start_time": "2024-12-03T16:43:26.847Z"
   },
   {
    "duration": 6,
    "start_time": "2024-12-03T16:43:26.855Z"
   },
   {
    "duration": 5,
    "start_time": "2024-12-03T16:43:26.862Z"
   },
   {
    "duration": 18,
    "start_time": "2024-12-03T16:43:26.868Z"
   },
   {
    "duration": 3,
    "start_time": "2024-12-03T16:43:26.888Z"
   },
   {
    "duration": 179,
    "start_time": "2024-12-03T16:43:26.893Z"
   },
   {
    "duration": 10,
    "start_time": "2024-12-03T16:43:27.075Z"
   },
   {
    "duration": 102,
    "start_time": "2024-12-03T16:43:27.086Z"
   },
   {
    "duration": 9,
    "start_time": "2024-12-03T16:43:27.190Z"
   },
   {
    "duration": 108,
    "start_time": "2024-12-03T16:43:27.200Z"
   },
   {
    "duration": 13,
    "start_time": "2024-12-03T16:43:27.310Z"
   },
   {
    "duration": 9,
    "start_time": "2024-12-03T16:43:27.343Z"
   },
   {
    "duration": 4,
    "start_time": "2024-12-03T16:43:27.353Z"
   },
   {
    "duration": 84,
    "start_time": "2024-12-03T16:43:27.359Z"
   },
   {
    "duration": 911,
    "start_time": "2024-12-03T16:46:00.170Z"
   },
   {
    "duration": 15,
    "start_time": "2024-12-03T16:46:01.083Z"
   },
   {
    "duration": 50,
    "start_time": "2024-12-03T16:46:01.099Z"
   },
   {
    "duration": 16,
    "start_time": "2024-12-03T16:46:01.151Z"
   },
   {
    "duration": 3,
    "start_time": "2024-12-03T16:46:01.169Z"
   },
   {
    "duration": 5,
    "start_time": "2024-12-03T16:46:01.174Z"
   },
   {
    "duration": 9,
    "start_time": "2024-12-03T16:46:01.181Z"
   },
   {
    "duration": 11,
    "start_time": "2024-12-03T16:46:01.191Z"
   },
   {
    "duration": 3,
    "start_time": "2024-12-03T16:46:01.204Z"
   },
   {
    "duration": 39,
    "start_time": "2024-12-03T16:46:01.209Z"
   },
   {
    "duration": 7,
    "start_time": "2024-12-03T16:46:01.250Z"
   },
   {
    "duration": 4,
    "start_time": "2024-12-03T16:46:01.259Z"
   },
   {
    "duration": 6,
    "start_time": "2024-12-03T16:46:01.264Z"
   },
   {
    "duration": 22,
    "start_time": "2024-12-03T16:46:01.272Z"
   },
   {
    "duration": 3,
    "start_time": "2024-12-03T16:46:01.296Z"
   },
   {
    "duration": 174,
    "start_time": "2024-12-03T16:46:01.301Z"
   },
   {
    "duration": 11,
    "start_time": "2024-12-03T16:46:01.477Z"
   },
   {
    "duration": 105,
    "start_time": "2024-12-03T16:46:01.489Z"
   },
   {
    "duration": 3,
    "start_time": "2024-12-03T16:46:01.597Z"
   },
   {
    "duration": 3,
    "start_time": "2024-12-03T16:46:01.601Z"
   },
   {
    "duration": 10,
    "start_time": "2024-12-03T16:46:01.606Z"
   },
   {
    "duration": 9,
    "start_time": "2024-12-03T16:46:01.644Z"
   },
   {
    "duration": 4,
    "start_time": "2024-12-03T16:46:01.655Z"
   },
   {
    "duration": 88,
    "start_time": "2024-12-03T16:46:01.661Z"
   },
   {
    "duration": 91,
    "start_time": "2024-12-03T17:37:13.663Z"
   },
   {
    "duration": 9,
    "start_time": "2024-12-03T17:37:38.231Z"
   },
   {
    "duration": 82,
    "start_time": "2024-12-03T17:37:47.527Z"
   },
   {
    "duration": 83,
    "start_time": "2024-12-03T17:38:01.341Z"
   },
   {
    "duration": 874,
    "start_time": "2024-12-03T17:38:22.404Z"
   },
   {
    "duration": 16,
    "start_time": "2024-12-03T17:38:23.280Z"
   },
   {
    "duration": 45,
    "start_time": "2024-12-03T17:38:23.298Z"
   },
   {
    "duration": 17,
    "start_time": "2024-12-03T17:38:23.345Z"
   },
   {
    "duration": 3,
    "start_time": "2024-12-03T17:38:23.364Z"
   },
   {
    "duration": 5,
    "start_time": "2024-12-03T17:38:23.369Z"
   },
   {
    "duration": 9,
    "start_time": "2024-12-03T17:38:23.376Z"
   },
   {
    "duration": 12,
    "start_time": "2024-12-03T17:38:23.386Z"
   },
   {
    "duration": 3,
    "start_time": "2024-12-03T17:38:23.399Z"
   },
   {
    "duration": 40,
    "start_time": "2024-12-03T17:38:23.404Z"
   },
   {
    "duration": 8,
    "start_time": "2024-12-03T17:38:23.446Z"
   },
   {
    "duration": 8,
    "start_time": "2024-12-03T17:38:23.457Z"
   },
   {
    "duration": 6,
    "start_time": "2024-12-03T17:38:23.467Z"
   },
   {
    "duration": 25,
    "start_time": "2024-12-03T17:38:23.476Z"
   },
   {
    "duration": 40,
    "start_time": "2024-12-03T17:38:23.503Z"
   },
   {
    "duration": 164,
    "start_time": "2024-12-03T17:38:23.545Z"
   },
   {
    "duration": 7,
    "start_time": "2024-12-03T17:38:23.711Z"
   },
   {
    "duration": 0,
    "start_time": "2024-12-03T17:38:23.720Z"
   },
   {
    "duration": 0,
    "start_time": "2024-12-03T17:38:23.721Z"
   },
   {
    "duration": 0,
    "start_time": "2024-12-03T17:38:23.722Z"
   },
   {
    "duration": 0,
    "start_time": "2024-12-03T17:38:23.723Z"
   },
   {
    "duration": 0,
    "start_time": "2024-12-03T17:38:23.725Z"
   },
   {
    "duration": 0,
    "start_time": "2024-12-03T17:38:23.742Z"
   },
   {
    "duration": 0,
    "start_time": "2024-12-03T17:38:23.744Z"
   },
   {
    "duration": 16,
    "start_time": "2024-12-03T17:38:37.832Z"
   },
   {
    "duration": 10,
    "start_time": "2024-12-03T17:38:41.987Z"
   },
   {
    "duration": 95,
    "start_time": "2024-12-03T17:38:41.998Z"
   },
   {
    "duration": 3,
    "start_time": "2024-12-03T17:38:42.094Z"
   },
   {
    "duration": 4,
    "start_time": "2024-12-03T17:38:42.099Z"
   },
   {
    "duration": 15,
    "start_time": "2024-12-03T17:38:42.105Z"
   },
   {
    "duration": 7,
    "start_time": "2024-12-03T17:38:42.144Z"
   },
   {
    "duration": 5,
    "start_time": "2024-12-03T17:38:42.155Z"
   },
   {
    "duration": 84,
    "start_time": "2024-12-03T17:38:42.161Z"
   },
   {
    "duration": 10,
    "start_time": "2024-12-03T17:39:27.240Z"
   },
   {
    "duration": 92,
    "start_time": "2024-12-03T17:39:30.856Z"
   },
   {
    "duration": 86,
    "start_time": "2024-12-03T17:39:47.281Z"
   },
   {
    "duration": 42,
    "start_time": "2024-12-03T17:39:57.940Z"
   },
   {
    "duration": 109,
    "start_time": "2024-12-03T17:40:00.215Z"
   },
   {
    "duration": 22,
    "start_time": "2024-12-03T17:40:18.047Z"
   },
   {
    "duration": 104,
    "start_time": "2024-12-03T17:40:20.731Z"
   },
   {
    "duration": 17,
    "start_time": "2024-12-03T17:40:30.545Z"
   },
   {
    "duration": 92,
    "start_time": "2024-12-03T17:40:32.932Z"
   },
   {
    "duration": 8,
    "start_time": "2024-12-03T17:40:47.825Z"
   },
   {
    "duration": 92,
    "start_time": "2024-12-03T17:40:51.139Z"
   },
   {
    "duration": 10,
    "start_time": "2024-12-03T17:41:29.732Z"
   },
   {
    "duration": 98,
    "start_time": "2024-12-03T17:41:31.606Z"
   },
   {
    "duration": 11,
    "start_time": "2024-12-03T17:41:40.265Z"
   },
   {
    "duration": 90,
    "start_time": "2024-12-03T17:41:41.399Z"
   },
   {
    "duration": 9,
    "start_time": "2024-12-03T17:41:49.130Z"
   },
   {
    "duration": 91,
    "start_time": "2024-12-03T17:41:49.336Z"
   },
   {
    "duration": 8,
    "start_time": "2024-12-03T17:41:56.849Z"
   },
   {
    "duration": 87,
    "start_time": "2024-12-03T17:41:57.069Z"
   },
   {
    "duration": 8,
    "start_time": "2024-12-03T17:42:06.503Z"
   },
   {
    "duration": 90,
    "start_time": "2024-12-03T17:42:06.732Z"
   },
   {
    "duration": 10,
    "start_time": "2024-12-03T17:42:16.063Z"
   },
   {
    "duration": 10,
    "start_time": "2024-12-03T17:42:16.791Z"
   },
   {
    "duration": 88,
    "start_time": "2024-12-03T17:42:19.889Z"
   },
   {
    "duration": 314,
    "start_time": "2024-12-03T17:42:42.799Z"
   },
   {
    "duration": 17,
    "start_time": "2024-12-03T17:42:50.090Z"
   },
   {
    "duration": 9,
    "start_time": "2024-12-03T17:42:59.439Z"
   },
   {
    "duration": 91,
    "start_time": "2024-12-03T17:43:02.628Z"
   },
   {
    "duration": 10,
    "start_time": "2024-12-03T17:43:12.598Z"
   },
   {
    "duration": 88,
    "start_time": "2024-12-03T17:43:17.330Z"
   },
   {
    "duration": 935,
    "start_time": "2024-12-03T17:43:34.343Z"
   },
   {
    "duration": 16,
    "start_time": "2024-12-03T17:43:35.280Z"
   },
   {
    "duration": 46,
    "start_time": "2024-12-03T17:43:35.297Z"
   },
   {
    "duration": 17,
    "start_time": "2024-12-03T17:43:35.346Z"
   },
   {
    "duration": 3,
    "start_time": "2024-12-03T17:43:35.365Z"
   },
   {
    "duration": 6,
    "start_time": "2024-12-03T17:43:35.369Z"
   },
   {
    "duration": 11,
    "start_time": "2024-12-03T17:43:35.377Z"
   },
   {
    "duration": 12,
    "start_time": "2024-12-03T17:43:35.389Z"
   },
   {
    "duration": 3,
    "start_time": "2024-12-03T17:43:35.403Z"
   },
   {
    "duration": 36,
    "start_time": "2024-12-03T17:43:35.408Z"
   },
   {
    "duration": 6,
    "start_time": "2024-12-03T17:43:35.446Z"
   },
   {
    "duration": 4,
    "start_time": "2024-12-03T17:43:35.454Z"
   },
   {
    "duration": 5,
    "start_time": "2024-12-03T17:43:35.460Z"
   },
   {
    "duration": 18,
    "start_time": "2024-12-03T17:43:35.469Z"
   },
   {
    "duration": 3,
    "start_time": "2024-12-03T17:43:35.488Z"
   },
   {
    "duration": 189,
    "start_time": "2024-12-03T17:43:35.493Z"
   },
   {
    "duration": 3,
    "start_time": "2024-12-03T17:43:35.683Z"
   },
   {
    "duration": 11,
    "start_time": "2024-12-03T17:43:35.688Z"
   },
   {
    "duration": 108,
    "start_time": "2024-12-03T17:43:35.702Z"
   },
   {
    "duration": 3,
    "start_time": "2024-12-03T17:43:35.812Z"
   },
   {
    "duration": 241,
    "start_time": "2024-12-03T17:43:35.817Z"
   },
   {
    "duration": 0,
    "start_time": "2024-12-03T17:43:36.060Z"
   },
   {
    "duration": 0,
    "start_time": "2024-12-03T17:43:36.062Z"
   },
   {
    "duration": 0,
    "start_time": "2024-12-03T17:43:36.063Z"
   },
   {
    "duration": 23,
    "start_time": "2024-12-03T17:43:56.508Z"
   },
   {
    "duration": 17,
    "start_time": "2024-12-03T17:44:02.788Z"
   },
   {
    "duration": 7,
    "start_time": "2024-12-03T17:44:02.807Z"
   },
   {
    "duration": 5,
    "start_time": "2024-12-03T17:44:02.816Z"
   },
   {
    "duration": 35,
    "start_time": "2024-12-03T17:44:02.823Z"
   },
   {
    "duration": 159,
    "start_time": "2024-12-03T20:25:10.589Z"
   },
   {
    "duration": 13,
    "start_time": "2024-12-03T20:25:11.386Z"
   },
   {
    "duration": 2661,
    "start_time": "2024-12-03T20:25:17.493Z"
   },
   {
    "duration": 26,
    "start_time": "2024-12-03T20:25:20.156Z"
   },
   {
    "duration": 38,
    "start_time": "2024-12-03T20:25:20.184Z"
   },
   {
    "duration": 16,
    "start_time": "2024-12-03T20:25:20.224Z"
   },
   {
    "duration": 3,
    "start_time": "2024-12-03T20:25:20.242Z"
   },
   {
    "duration": 25,
    "start_time": "2024-12-03T20:25:20.246Z"
   },
   {
    "duration": 10,
    "start_time": "2024-12-03T20:25:20.272Z"
   },
   {
    "duration": 12,
    "start_time": "2024-12-03T20:25:20.283Z"
   },
   {
    "duration": 5,
    "start_time": "2024-12-03T20:25:20.296Z"
   },
   {
    "duration": 4,
    "start_time": "2024-12-03T20:25:20.305Z"
   },
   {
    "duration": 8,
    "start_time": "2024-12-03T20:25:20.310Z"
   },
   {
    "duration": 4,
    "start_time": "2024-12-03T20:25:20.320Z"
   },
   {
    "duration": 46,
    "start_time": "2024-12-03T20:25:20.325Z"
   },
   {
    "duration": 17,
    "start_time": "2024-12-03T20:25:20.373Z"
   },
   {
    "duration": 3,
    "start_time": "2024-12-03T20:25:20.392Z"
   },
   {
    "duration": 116,
    "start_time": "2024-12-03T20:25:20.396Z"
   },
   {
    "duration": 5,
    "start_time": "2024-12-03T20:25:20.513Z"
   },
   {
    "duration": 11,
    "start_time": "2024-12-03T20:25:20.520Z"
   },
   {
    "duration": 107,
    "start_time": "2024-12-03T20:25:20.533Z"
   },
   {
    "duration": 2,
    "start_time": "2024-12-03T20:25:20.642Z"
   },
   {
    "duration": 36,
    "start_time": "2024-12-03T20:25:20.646Z"
   },
   {
    "duration": 6,
    "start_time": "2024-12-03T20:25:20.683Z"
   },
   {
    "duration": 7,
    "start_time": "2024-12-03T20:25:20.691Z"
   },
   {
    "duration": 77,
    "start_time": "2024-12-03T20:25:20.699Z"
   },
   {
    "duration": 10,
    "start_time": "2024-12-03T20:27:42.101Z"
   },
   {
    "duration": 91,
    "start_time": "2024-12-03T20:27:42.949Z"
   },
   {
    "duration": 18,
    "start_time": "2024-12-03T20:27:56.683Z"
   },
   {
    "duration": 8,
    "start_time": "2024-12-03T20:27:59.080Z"
   },
   {
    "duration": 5,
    "start_time": "2024-12-03T20:28:00.021Z"
   },
   {
    "duration": 9,
    "start_time": "2024-12-03T20:28:15.091Z"
   },
   {
    "duration": 87,
    "start_time": "2024-12-03T20:28:15.242Z"
   },
   {
    "duration": 2,
    "start_time": "2024-12-03T20:28:15.360Z"
   },
   {
    "duration": 19,
    "start_time": "2024-12-03T20:28:15.649Z"
   },
   {
    "duration": 9,
    "start_time": "2024-12-03T20:28:16.741Z"
   },
   {
    "duration": 93,
    "start_time": "2024-12-03T20:36:44.110Z"
   },
   {
    "duration": 857,
    "start_time": "2024-12-03T20:38:16.148Z"
   },
   {
    "duration": 15,
    "start_time": "2024-12-03T20:38:17.008Z"
   },
   {
    "duration": 35,
    "start_time": "2024-12-03T20:38:17.024Z"
   },
   {
    "duration": 17,
    "start_time": "2024-12-03T20:38:17.070Z"
   },
   {
    "duration": 2,
    "start_time": "2024-12-03T20:38:17.089Z"
   },
   {
    "duration": 6,
    "start_time": "2024-12-03T20:38:17.093Z"
   },
   {
    "duration": 9,
    "start_time": "2024-12-03T20:38:17.101Z"
   },
   {
    "duration": 11,
    "start_time": "2024-12-03T20:38:17.111Z"
   },
   {
    "duration": 3,
    "start_time": "2024-12-03T20:38:17.123Z"
   },
   {
    "duration": 4,
    "start_time": "2024-12-03T20:38:17.129Z"
   },
   {
    "duration": 48,
    "start_time": "2024-12-03T20:38:17.134Z"
   },
   {
    "duration": 4,
    "start_time": "2024-12-03T20:38:17.186Z"
   },
   {
    "duration": 6,
    "start_time": "2024-12-03T20:38:17.193Z"
   },
   {
    "duration": 19,
    "start_time": "2024-12-03T20:38:17.201Z"
   },
   {
    "duration": 4,
    "start_time": "2024-12-03T20:38:17.222Z"
   },
   {
    "duration": 167,
    "start_time": "2024-12-03T20:38:17.227Z"
   },
   {
    "duration": 10,
    "start_time": "2024-12-03T20:38:17.395Z"
   },
   {
    "duration": 99,
    "start_time": "2024-12-03T20:38:17.407Z"
   },
   {
    "duration": 20,
    "start_time": "2024-12-03T20:38:17.507Z"
   },
   {
    "duration": 5,
    "start_time": "2024-12-03T20:38:17.529Z"
   },
   {
    "duration": 38,
    "start_time": "2024-12-03T20:38:17.535Z"
   },
   {
    "duration": 15,
    "start_time": "2024-12-03T20:38:17.574Z"
   },
   {
    "duration": 19,
    "start_time": "2024-12-03T20:39:08.648Z"
   },
   {
    "duration": 18,
    "start_time": "2024-12-03T20:39:11.482Z"
   },
   {
    "duration": 7,
    "start_time": "2024-12-03T20:39:12.048Z"
   },
   {
    "duration": 363,
    "start_time": "2024-12-03T20:39:12.723Z"
   },
   {
    "duration": 19,
    "start_time": "2024-12-03T20:39:25.582Z"
   },
   {
    "duration": 7,
    "start_time": "2024-12-03T20:39:28.278Z"
   },
   {
    "duration": 4,
    "start_time": "2024-12-03T20:39:30.679Z"
   },
   {
    "duration": 7,
    "start_time": "2024-12-03T21:05:56.861Z"
   },
   {
    "duration": 18,
    "start_time": "2024-12-03T21:06:36.339Z"
   },
   {
    "duration": 3,
    "start_time": "2024-12-03T21:06:54.883Z"
   },
   {
    "duration": 862,
    "start_time": "2024-12-03T21:07:02.045Z"
   },
   {
    "duration": 16,
    "start_time": "2024-12-03T21:07:02.909Z"
   },
   {
    "duration": 43,
    "start_time": "2024-12-03T21:07:02.927Z"
   },
   {
    "duration": 16,
    "start_time": "2024-12-03T21:07:02.973Z"
   },
   {
    "duration": 3,
    "start_time": "2024-12-03T21:07:02.991Z"
   },
   {
    "duration": 7,
    "start_time": "2024-12-03T21:07:02.995Z"
   },
   {
    "duration": 9,
    "start_time": "2024-12-03T21:07:03.004Z"
   },
   {
    "duration": 11,
    "start_time": "2024-12-03T21:07:03.015Z"
   },
   {
    "duration": 3,
    "start_time": "2024-12-03T21:07:03.028Z"
   },
   {
    "duration": 5,
    "start_time": "2024-12-03T21:07:03.070Z"
   },
   {
    "duration": 7,
    "start_time": "2024-12-03T21:07:03.077Z"
   },
   {
    "duration": 4,
    "start_time": "2024-12-03T21:07:03.085Z"
   },
   {
    "duration": 5,
    "start_time": "2024-12-03T21:07:03.091Z"
   },
   {
    "duration": 16,
    "start_time": "2024-12-03T21:07:03.098Z"
   },
   {
    "duration": 4,
    "start_time": "2024-12-03T21:07:03.116Z"
   },
   {
    "duration": 189,
    "start_time": "2024-12-03T21:07:03.121Z"
   },
   {
    "duration": 11,
    "start_time": "2024-12-03T21:07:03.313Z"
   },
   {
    "duration": 101,
    "start_time": "2024-12-03T21:07:03.326Z"
   },
   {
    "duration": 40,
    "start_time": "2024-12-03T21:07:03.430Z"
   },
   {
    "duration": 8,
    "start_time": "2024-12-03T21:07:03.471Z"
   },
   {
    "duration": 336,
    "start_time": "2024-12-03T21:07:03.481Z"
   },
   {
    "duration": 0,
    "start_time": "2024-12-03T21:07:03.819Z"
   },
   {
    "duration": 0,
    "start_time": "2024-12-03T21:07:03.821Z"
   },
   {
    "duration": 15,
    "start_time": "2024-12-03T21:11:31.995Z"
   },
   {
    "duration": 6,
    "start_time": "2024-12-03T21:12:07.436Z"
   },
   {
    "duration": 118,
    "start_time": "2024-12-03T21:12:09.712Z"
   },
   {
    "duration": 5,
    "start_time": "2024-12-03T21:13:40.577Z"
   },
   {
    "duration": 10,
    "start_time": "2024-12-03T21:13:40.804Z"
   },
   {
    "duration": 2748,
    "start_time": "2024-12-05T15:39:40.602Z"
   },
   {
    "duration": 26,
    "start_time": "2024-12-05T15:39:43.352Z"
   },
   {
    "duration": 36,
    "start_time": "2024-12-05T15:39:43.379Z"
   },
   {
    "duration": 17,
    "start_time": "2024-12-05T15:39:43.416Z"
   },
   {
    "duration": 2,
    "start_time": "2024-12-05T15:39:43.436Z"
   },
   {
    "duration": 7,
    "start_time": "2024-12-05T15:39:43.440Z"
   },
   {
    "duration": 9,
    "start_time": "2024-12-05T15:39:43.449Z"
   },
   {
    "duration": 10,
    "start_time": "2024-12-05T15:39:43.460Z"
   },
   {
    "duration": 4,
    "start_time": "2024-12-05T15:39:43.504Z"
   },
   {
    "duration": 5,
    "start_time": "2024-12-05T15:39:43.509Z"
   },
   {
    "duration": 7,
    "start_time": "2024-12-05T15:39:43.515Z"
   },
   {
    "duration": 4,
    "start_time": "2024-12-05T15:39:43.524Z"
   },
   {
    "duration": 5,
    "start_time": "2024-12-05T15:39:43.529Z"
   },
   {
    "duration": 17,
    "start_time": "2024-12-05T15:39:43.537Z"
   },
   {
    "duration": 4,
    "start_time": "2024-12-05T15:39:43.555Z"
   },
   {
    "duration": 134,
    "start_time": "2024-12-05T15:39:43.561Z"
   },
   {
    "duration": 18,
    "start_time": "2024-12-05T15:39:43.697Z"
   },
   {
    "duration": 96,
    "start_time": "2024-12-05T15:39:43.716Z"
   },
   {
    "duration": 19,
    "start_time": "2024-12-05T15:39:43.815Z"
   },
   {
    "duration": 6,
    "start_time": "2024-12-05T15:39:43.835Z"
   },
   {
    "duration": 5,
    "start_time": "2024-12-05T15:39:43.843Z"
   },
   {
    "duration": 201,
    "start_time": "2024-12-05T15:39:43.906Z"
   },
   {
    "duration": 11,
    "start_time": "2024-12-05T15:39:44.109Z"
   },
   {
    "duration": 2644,
    "start_time": "2024-12-06T10:07:35.280Z"
   },
   {
    "duration": 29,
    "start_time": "2024-12-06T10:07:37.927Z"
   },
   {
    "duration": 36,
    "start_time": "2024-12-06T10:07:37.958Z"
   },
   {
    "duration": 15,
    "start_time": "2024-12-06T10:07:37.996Z"
   },
   {
    "duration": 3,
    "start_time": "2024-12-06T10:07:38.013Z"
   },
   {
    "duration": 26,
    "start_time": "2024-12-06T10:07:38.017Z"
   },
   {
    "duration": 9,
    "start_time": "2024-12-06T10:07:38.045Z"
   },
   {
    "duration": 12,
    "start_time": "2024-12-06T10:07:38.055Z"
   },
   {
    "duration": 3,
    "start_time": "2024-12-06T10:07:38.068Z"
   },
   {
    "duration": 5,
    "start_time": "2024-12-06T10:07:38.075Z"
   },
   {
    "duration": 8,
    "start_time": "2024-12-06T10:07:38.081Z"
   },
   {
    "duration": 5,
    "start_time": "2024-12-06T10:07:38.090Z"
   },
   {
    "duration": 5,
    "start_time": "2024-12-06T10:07:38.096Z"
   },
   {
    "duration": 18,
    "start_time": "2024-12-06T10:07:38.142Z"
   },
   {
    "duration": 3,
    "start_time": "2024-12-06T10:07:38.162Z"
   },
   {
    "duration": 109,
    "start_time": "2024-12-06T10:07:38.167Z"
   },
   {
    "duration": 9,
    "start_time": "2024-12-06T10:07:38.278Z"
   },
   {
    "duration": 101,
    "start_time": "2024-12-06T10:07:38.289Z"
   },
   {
    "duration": 3,
    "start_time": "2024-12-06T10:07:38.392Z"
   },
   {
    "duration": 47,
    "start_time": "2024-12-06T10:07:38.396Z"
   },
   {
    "duration": 2,
    "start_time": "2024-12-06T10:07:38.446Z"
   },
   {
    "duration": 5,
    "start_time": "2024-12-06T10:07:38.450Z"
   },
   {
    "duration": 131,
    "start_time": "2024-12-06T10:07:38.456Z"
   },
   {
    "duration": 10,
    "start_time": "2024-12-06T10:07:38.589Z"
   },
   {
    "duration": 952,
    "start_time": "2024-12-06T18:50:37.764Z"
   },
   {
    "duration": 25,
    "start_time": "2024-12-06T18:50:38.717Z"
   },
   {
    "duration": 39,
    "start_time": "2024-12-06T18:50:38.744Z"
   },
   {
    "duration": 16,
    "start_time": "2024-12-06T18:50:38.786Z"
   },
   {
    "duration": 3,
    "start_time": "2024-12-06T18:50:38.804Z"
   },
   {
    "duration": 24,
    "start_time": "2024-12-06T18:50:38.809Z"
   },
   {
    "duration": 10,
    "start_time": "2024-12-06T18:50:38.835Z"
   },
   {
    "duration": 11,
    "start_time": "2024-12-06T18:50:38.846Z"
   },
   {
    "duration": 3,
    "start_time": "2024-12-06T18:50:38.859Z"
   },
   {
    "duration": 5,
    "start_time": "2024-12-06T18:50:38.865Z"
   },
   {
    "duration": 8,
    "start_time": "2024-12-06T18:50:38.871Z"
   },
   {
    "duration": 4,
    "start_time": "2024-12-06T18:50:38.882Z"
   },
   {
    "duration": 44,
    "start_time": "2024-12-06T18:50:38.887Z"
   },
   {
    "duration": 19,
    "start_time": "2024-12-06T18:50:38.932Z"
   },
   {
    "duration": 4,
    "start_time": "2024-12-06T18:50:38.952Z"
   },
   {
    "duration": 161,
    "start_time": "2024-12-06T18:50:38.957Z"
   },
   {
    "duration": 18,
    "start_time": "2024-12-06T18:50:39.120Z"
   },
   {
    "duration": 100,
    "start_time": "2024-12-06T18:50:39.140Z"
   },
   {
    "duration": 29,
    "start_time": "2024-12-06T18:50:39.242Z"
   },
   {
    "duration": 4,
    "start_time": "2024-12-06T18:50:39.272Z"
   },
   {
    "duration": 137,
    "start_time": "2024-12-06T18:50:39.278Z"
   },
   {
    "duration": 19,
    "start_time": "2024-12-06T18:50:39.417Z"
   }
  ],
  "kernelspec": {
   "display_name": "Python 3 (ipykernel)",
   "language": "python",
   "name": "python3"
  },
  "language_info": {
   "codemirror_mode": {
    "name": "ipython",
    "version": 3
   },
   "file_extension": ".py",
   "mimetype": "text/x-python",
   "name": "python",
   "nbconvert_exporter": "python",
   "pygments_lexer": "ipython3",
   "version": "3.9.19"
  },
  "toc": {
   "base_numbering": 1,
   "nav_menu": {},
   "number_sections": true,
   "sideBar": true,
   "skip_h1_title": true,
   "title_cell": "Table of Contents",
   "title_sidebar": "Contents",
   "toc_cell": false,
   "toc_position": {},
   "toc_section_display": true,
   "toc_window_display": false
  }
 },
 "nbformat": 4,
 "nbformat_minor": 2
}
